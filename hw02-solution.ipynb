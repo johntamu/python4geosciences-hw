{
 "cells": [
  {
   "cell_type": "code",
   "execution_count": 19,
   "metadata": {
    "collapsed": false
   },
   "outputs": [
    {
     "data": {
      "text/plain": [
       "{'Department': 'Geography',\n",
       " 'Hometown': 'Santa Cruz, California',\n",
       " 'Name': 'John Schiff',\n",
       " 'Purpose': 'My goal is proficiency with Python for data analysis in my paleoceanographic research',\n",
       " 'Status': 'PhD',\n",
       " 'Years at TAMU': 'Almost 2'}"
      ]
     },
     "execution_count": 19,
     "metadata": {},
     "output_type": "execute_result"
    }
   ],
   "source": [
    "d = {} # Empty dictionary\n",
    "# Fill in the entries one by one\n",
    "# Different from d = {'a':3} method from materials\n",
    "# This method is used to assign new values to an already existing dictionary\n",
    "d[\"Name\"] = 'John Schiff'\n",
    "d[\"Hometown\"] = 'Santa Cruz, California'\n",
    "d[\"Department\"] = 'Geography'\n",
    "d[\"Status\"] = 'PhD'\n",
    "d[\"Years at TAMU\"] = 'Almost 2'\n",
    "d[\"Purpose\"] = \"My goal is proficiency with Python for data analysis in my paleoceanographic research\"\n",
    "d"
   ]
  },
  {
   "cell_type": "markdown",
   "metadata": {},
   "source": [
    "## 2 Vowel Test"
   ]
  },
  {
   "cell_type": "code",
   "execution_count": 103,
   "metadata": {
    "collapsed": false
   },
   "outputs": [],
   "source": [
    "def isVowel(charac): # \"charac\" refers to any given character, i.e. a string of length 1\n",
    "    \"\"\"Check if an inputed character is a vowel\"\"\"\n",
    "    return charac.lower() in 'aeiou'\n",
    "    # Basically, with this function we ask if \"charac\" is the same as any of the defined vowels above\n",
    "    # the lower() takes into account upper and lower cases of characters by returning all characters as lower case"
   ]
  },
  {
   "cell_type": "code",
   "execution_count": 104,
   "metadata": {
    "collapsed": false
   },
   "outputs": [
    {
     "data": {
      "text/plain": [
       "True"
      ]
     },
     "execution_count": 104,
     "metadata": {},
     "output_type": "execute_result"
    }
   ],
   "source": [
    "isVowel(\"a\")"
   ]
  },
  {
   "cell_type": "code",
   "execution_count": 102,
   "metadata": {
    "collapsed": false
   },
   "outputs": [
    {
     "data": {
      "text/plain": [
       "True"
      ]
     },
     "execution_count": 102,
     "metadata": {},
     "output_type": "execute_result"
    }
   ],
   "source": [
    "isVowel(\"A\")"
   ]
  },
  {
   "cell_type": "markdown",
   "metadata": {},
   "source": [
    "## 3 Compute length of a given list OR string"
   ]
  },
  {
   "cell_type": "code",
   "execution_count": 47,
   "metadata": {
    "collapsed": false
   },
   "outputs": [
    {
     "data": {
      "text/plain": [
       "2"
      ]
     },
     "execution_count": 47,
     "metadata": {},
     "output_type": "execute_result"
    }
   ],
   "source": [
    "def length(input):\n",
    "    count = 0 # Count starts from zero\n",
    "    for x in input:\n",
    "        count += 1\n",
    "    return (count) # Returns the number of characters in the word or number of words in the list\n",
    "\n",
    "length([\"word\",\"word2\"])"
   ]
  },
  {
   "cell_type": "code",
   "execution_count": 48,
   "metadata": {
    "collapsed": false
   },
   "outputs": [
    {
     "data": {
      "text/plain": [
       "5"
      ]
     },
     "execution_count": 48,
     "metadata": {},
     "output_type": "execute_result"
    }
   ],
   "source": [
    "length(\"word1\")"
   ]
  },
  {
   "cell_type": "markdown",
   "metadata": {},
   "source": [
    "## 4 Reverse a string"
   ]
  },
  {
   "cell_type": "code",
   "execution_count": 6,
   "metadata": {
    "collapsed": false
   },
   "outputs": [
    {
     "data": {
      "text/plain": [
       "'dlrow olleh'"
      ]
     },
     "execution_count": 6,
     "metadata": {},
     "output_type": "execute_result"
    }
   ],
   "source": [
    "def reverse(input):\n",
    "    \"\"\"Reverses a string\"\"\"\n",
    "    return input[::-1]\n",
    "\n",
    "reverse('hello world')"
   ]
  },
  {
   "cell_type": "markdown",
   "metadata": {},
   "source": [
    "## 5 Check for palindromes\n"
   ]
  },
  {
   "cell_type": "code",
   "execution_count": 7,
   "metadata": {
    "collapsed": false
   },
   "outputs": [
    {
     "data": {
      "text/plain": [
       "False"
      ]
     },
     "execution_count": 7,
     "metadata": {},
     "output_type": "execute_result"
    }
   ],
   "source": [
    "def check(input):\n",
    "    \"\"\"Checks if the input is a palindrome\"\"\"\n",
    "    joined = ''.join(input)\n",
    "    lowered_text = joined.lower()\n",
    "    \n",
    "    if lowered_text == lowered_text[::-1]:\n",
    "        return True\n",
    "    \n",
    "    else:\n",
    "        return False\n",
    "    \n",
    "check(\"test\")"
   ]
  },
  {
   "cell_type": "code",
   "execution_count": 8,
   "metadata": {
    "collapsed": false
   },
   "outputs": [
    {
     "data": {
      "text/plain": [
       "True"
      ]
     },
     "execution_count": 8,
     "metadata": {},
     "output_type": "execute_result"
    }
   ],
   "source": [
    "check(\"Able was i ere i saw Elba\")"
   ]
  },
  {
   "cell_type": "markdown",
   "metadata": {},
   "source": [
    "## 6 Number lines in a text file"
   ]
  },
  {
   "cell_type": "code",
   "execution_count": 80,
   "metadata": {
    "collapsed": false
   },
   "outputs": [
    {
     "name": "stdout",
     "output_type": "stream",
     "text": [
      "1 This is the first line\n",
      "\n",
      "2 This is the second line\n",
      "\n",
      "3 This is the third line\n"
     ]
    }
   ],
   "source": [
    "file = open('hw02.txt')\n",
    "r = file.readlines()\n",
    "count = 0\n",
    "for line in r:\n",
    "    if not line.strip():\n",
    "        continue\n",
    "    else:\n",
    "        count += 1\n",
    "        print(count, line)\n",
    "file.close()"
   ]
  },
  {
   "cell_type": "markdown",
   "metadata": {},
   "source": [
    "## 7. Convert list of words into list of integers of lengths of words"
   ]
  },
  {
   "cell_type": "code",
   "execution_count": 43,
   "metadata": {
    "collapsed": false
   },
   "outputs": [
    {
     "name": "stdout",
     "output_type": "stream",
     "text": [
      "3\n",
      "3\n",
      "2\n",
      "4\n"
     ]
    }
   ],
   "source": [
    "def method1(input):\n",
    "    \"\"\"Return length of words in a list using a for loop\"\"\"\n",
    "    wordlist = input.split()\n",
    "    for word in wordlist:\n",
    "        r = length(word)\n",
    "        print(r)\n",
    "    \n",
    "method1('dog cat ox bird')\n",
    "# Results in list of four words\n",
    "# Now it only counts the first word instead of all of them\n",
    "# Make it return a list of integers"
   ]
  },
  {
   "cell_type": "code",
   "execution_count": 40,
   "metadata": {
    "collapsed": false
   },
   "outputs": [
    {
     "name": "stdout",
     "output_type": "stream",
     "text": [
      "3\n",
      "3\n",
      "2\n",
      "4\n"
     ]
    }
   ],
   "source": [
    "def method2(input):\n",
    "    \"\"\"Return length of words in a list using the map() function\"\"\"\n",
    "    wordlist = input.split()\n",
    "    for word in map(length, wordlist):\n",
    "        print(word)\n",
    "\n",
    "method2('cat dog ox bird')"
   ]
  },
  {
   "cell_type": "code",
   "execution_count": 46,
   "metadata": {
    "collapsed": false
   },
   "outputs": [
    {
     "name": "stdout",
     "output_type": "stream",
     "text": [
      "[3, 3, 2, 4]\n"
     ]
    }
   ],
   "source": [
    "def method3(input):\n",
    "    \"\"\"Return length of words in a given list using list comprehension\"\"\"\n",
    "    wordlist = input.split()\n",
    "    r = [length(word) for word in wordlist]\n",
    "    print(r)\n",
    "    \n",
    "method3('dog cat ox bird')"
   ]
  },
  {
   "cell_type": "markdown",
   "metadata": {},
   "source": [
    "## 8 Encode or Decode Using ROT13"
   ]
  },
  {
   "cell_type": "code",
   "execution_count": 10,
   "metadata": {
    "collapsed": false
   },
   "outputs": [
    {
     "data": {
      "text/plain": [
       "'Caesar cipher? I much prefer Caesar salad!'"
      ]
     },
     "execution_count": 10,
     "metadata": {},
     "output_type": "execute_result"
    }
   ],
   "source": [
    "key = {'a':'n', 'b':'o', 'c':'p', 'd':'q', 'e':'r', 'f':'s', 'g':'t', 'h':'u', \n",
    "       'i':'v', 'j':'w', 'k':'x', 'l':'y', 'm':'z', 'n':'a', 'o':'b', 'p':'c', \n",
    "       'q':'d', 'r':'e', 's':'f', 't':'g', 'u':'h', 'v':'i', 'w':'j', 'x':'k',\n",
    "       'y':'l', 'z':'m', 'A':'N', 'B':'O', 'C':'P', 'D':'Q', 'E':'R', 'F':'S', \n",
    "       'G':'T', 'H':'U', 'I':'V', 'J':'W', 'K':'X', 'L':'Y', 'M':'Z', 'N':'A', \n",
    "       'O':'B', 'P':'C', 'Q':'D', 'R':'E', 'S':'F', 'T':'G', 'U':'H', 'V':'I', \n",
    "       'W':'J', 'X':'K', 'Y':'L', 'Z':'M'}\n",
    "\n",
    "def cipher(text_to_encode):\n",
    "    cipher = [] # Text to encode is now a list for the function\n",
    "    for character in text_to_encode:\n",
    "\n",
    "        if character.islower():\n",
    "            cipher.append(key.get(character))\n",
    "\n",
    "        elif character.isupper():\n",
    "            character = character.lower()\n",
    "            result = key.get(character)\n",
    "            cipher.append(result.capitalize())\n",
    "\n",
    "        elif character not in key: # This is to account for spaces and special characters like '?' or '!'\n",
    "            cipher.append(character)\n",
    "        \n",
    "    return ''.join(cipher)\n",
    "\n",
    "cipher('Pnrfne pvcure? V zhpu cersre Pnrfne fnynq!')"
   ]
  },
  {
   "cell_type": "markdown",
   "metadata": {},
   "source": [
    "## 9 Fix the Code"
   ]
  },
  {
   "cell_type": "code",
   "execution_count": 45,
   "metadata": {
    "collapsed": false
   },
   "outputs": [
    {
     "name": "stdout",
     "output_type": "stream",
     "text": [
      "3 bottles of beer on the wall, 3 bottles of beer.\n",
      "Take one down, pass it around, 2 bottles of beer on the wall.\n",
      "\n",
      "2 bottles of beer on the wall, 2 bottles of beer.\n",
      "Take one down, pass it around, 1 bottles of beer on the wall.\n",
      "\n",
      "1 bottle of beer on the wall, 1 bottle of beer.\n",
      "Take one down, pass it around, 0 bottles of beer on the wall.\n",
      "\n"
     ]
    }
   ],
   "source": [
    "def words(num):\n",
    "    \"\"\"Returns words with proper number of beer bottles filled in.\"\"\"\n",
    "    \n",
    "    if num != 1: # Changed indentation to four, added colon\n",
    "        print(str(num) + ' bottles of beer on the wall, ' + str(num) + ' bottles of beer.\\n' # Deleted +\n",
    "        'Take one down, pass it around, ' + str(num-1) + ' bottles of beer on the wall.') # Deleted \\n; removed indent\n",
    "        return '' # Added return '' to prevent \"None\" from appearing\n",
    "    \n",
    "    elif num == 1: # Requires '==' rather than '='\n",
    "        print(str(num) + ' bottle of beer on the wall, ' + str(num) + ' bottle of beer.\\n'\n",
    "        'Take one down, pass it around, ' + str(num-1) + ' bottles of beer on the wall.') # Deleted \\n; removed indent\n",
    "        return ''\n",
    "\n",
    "numbottles = 3\n",
    "\n",
    "for i in range(numbottles, 0, -1): # Not a list, removed brackets []; added colon\n",
    "    # Also changed step from '1' to '-1'; format: range(start, stop, step)\n",
    "    print(words(i)) # Changed indentation"
   ]
  },
  {
   "cell_type": "markdown",
   "metadata": {
    "collapsed": true
   },
   "source": [
    "## 10 Reading in and parsing a file"
   ]
  },
  {
   "cell_type": "code",
   "execution_count": 131,
   "metadata": {
    "collapsed": true
   },
   "outputs": [],
   "source": [
    "f = open('GPS.dat') # file was copy-pasted into homework file for easy opening"
   ]
  },
  {
   "cell_type": "code",
   "execution_count": 132,
   "metadata": {
    "collapsed": false
   },
   "outputs": [
    {
     "name": "stdout",
     "output_type": "stream",
     "text": [
      "5/20/2006 1:34:55 PM\n",
      "5/20/2006 1:35:10 PM\n",
      "5/20/2006 1:35:25 PM\n",
      "5/20/2006 1:35:40 PM\n",
      "5/20/2006 1:35:55 PM\n",
      "5/20/2006 1:36:10 PM\n",
      "5/20/2006 1:36:25 PM\n",
      "5/20/2006 1:36:40 PM\n",
      "5/20/2006 1:36:55 PM\n",
      "5/20/2006 1:37:10 PM\n",
      "5/20/2006 1:37:25 PM\n",
      "5/20/2006 1:37:40 PM\n",
      "5/20/2006 1:37:55 PM\n",
      "5/20/2006 1:38:10 PM\n",
      "5/20/2006 1:38:25 PM\n",
      "5/20/2006 1:38:40 PM\n",
      "5/20/2006 1:38:55 PM\n",
      "5/20/2006 1:39:10 PM\n",
      "5/20/2006 1:39:25 PM\n",
      "5/20/2006 1:39:40 PM\n",
      "5/20/2006 1:39:55 PM\n",
      "5/20/2006 1:40:10 PM\n",
      "5/20/2006 1:40:25 PM\n",
      "5/20/2006 1:40:40 PM\n",
      "5/20/2006 1:40:55 PM\n",
      "5/20/2006 1:41:10 PM\n",
      "5/20/2006 1:41:25 PM\n",
      "5/20/2006 1:41:40 PM\n",
      "5/20/2006 1:41:55 PM\n",
      "5/20/2006 1:42:10 PM\n",
      "5/20/2006 1:42:25 PM\n",
      "5/20/2006 1:42:40 PM\n",
      "5/20/2006 1:42:55 PM\n",
      "5/20/2006 1:43:10 PM\n",
      "5/20/2006 1:43:25 PM\n",
      "5/20/2006 1:43:40 PM\n",
      "5/20/2006 1:43:55 PM\n",
      "5/20/2006 1:44:10 PM\n",
      "5/20/2006 1:44:25 PM\n",
      "5/20/2006 1:44:40 PM\n",
      "5/20/2006 1:44:55 PM\n",
      "5/20/2006 1:45:10 PM\n",
      "5/20/2006 1:45:25 PM\n",
      "5/20/2006 1:45:40 PM\n",
      "5/20/2006 1:45:55 PM\n",
      "5/20/2006 1:46:10 PM\n",
      "5/20/2006 1:46:25 PM\n",
      "5/20/2006 1:46:40 PM\n",
      "5/20/2006 1:46:55 PM\n",
      "5/20/2006 1:47:10 PM\n",
      "5/20/2006 1:47:25 PM\n",
      "5/20/2006 1:47:40 PM\n",
      "5/20/2006 1:47:55 PM\n",
      "5/20/2006 1:48:10 PM\n",
      "5/20/2006 1:48:25 PM\n",
      "5/20/2006 1:48:40 PM\n",
      "5/20/2006 1:48:55 PM\n",
      "5/20/2006 1:49:10 PM\n",
      "5/20/2006 1:49:25 PM\n",
      "5/20/2006 1:49:40 PM\n",
      "5/20/2006 1:49:56 PM\n",
      "5/20/2006 1:50:11 PM\n",
      "5/20/2006 1:50:26 PM\n",
      "5/20/2006 1:50:42 PM\n",
      "5/20/2006 1:50:57 PM\n",
      "5/20/2006 1:51:12 PM\n",
      "5/20/2006 1:51:27 PM\n",
      "5/20/2006 1:51:42 PM\n",
      "5/20/2006 1:51:57 PM\n",
      "5/20/2006 1:52:12 PM\n",
      "5/20/2006 1:52:27 PM\n",
      "5/20/2006 1:52:42 PM\n",
      "5/20/2006 1:52:57 PM\n",
      "5/20/2006 1:53:12 PM\n",
      "5/20/2006 1:53:27 PM\n",
      "5/20/2006 1:53:42 PM\n",
      "5/20/2006 1:53:57 PM\n",
      "5/20/2006 1:54:12 PM\n",
      "5/20/2006 1:54:27 PM\n",
      "5/20/2006 1:54:42 PM\n",
      "5/20/2006 1:54:57 PM\n",
      "5/20/2006 1:55:12 PM\n",
      "5/20/2006 1:55:27 PM\n",
      "5/20/2006 1:55:42 PM\n",
      "5/20/2006 1:55:57 PM\n",
      "5/20/2006 1:56:12 PM\n",
      "5/20/2006 1:56:27 PM\n",
      "5/20/2006 1:56:42 PM\n",
      "5/20/2006 1:56:57 PM\n",
      "5/20/2006 1:57:12 PM\n",
      "5/20/2006 1:57:27 PM\n",
      "5/20/2006 1:57:42 PM\n",
      "5/20/2006 1:57:57 PM\n",
      "5/20/2006 1:58:12 PM\n",
      "5/20/2006 1:58:27 PM\n",
      "5/20/2006 1:58:42 PM\n",
      "5/20/2006 1:58:57 PM\n",
      "5/20/2006 1:59:12 PM\n",
      "5/20/2006 1:59:27 PM\n",
      "5/20/2006 1:59:42 PM\n",
      "5/20/2006 1:59:57 PM\n",
      "5/20/2006 2:00:12 PM\n",
      "5/20/2006 2:00:27 PM\n",
      "5/20/2006 2:00:42 PM\n",
      "5/20/2006 2:00:57 PM\n",
      "5/20/2006 2:01:12 PM\n",
      "5/20/2006 2:01:27 PM\n",
      "5/20/2006 2:01:42 PM\n",
      "5/20/2006 2:01:57 PM\n",
      "5/20/2006 2:02:12 PM\n",
      "5/20/2006 2:02:27 PM\n",
      "5/20/2006 2:02:42 PM\n",
      "5/20/2006 2:02:57 PM\n",
      "5/20/2006 2:03:12 PM\n",
      "5/20/2006 2:03:27 PM\n",
      "5/20/2006 2:03:42 PM\n",
      "5/20/2006 2:03:57 PM\n",
      "5/20/2006 2:04:12 PM\n",
      "5/20/2006 2:04:27 PM\n",
      "5/20/2006 2:04:42 PM\n",
      "5/20/2006 2:04:57 PM\n",
      "5/20/2006 2:05:12 PM\n",
      "5/20/2006 2:05:27 PM\n",
      "5/20/2006 2:05:42 PM\n",
      "5/20/2006 2:05:57 PM\n",
      "5/20/2006 2:06:12 PM\n",
      "5/20/2006 2:06:27 PM\n",
      "5/20/2006 2:06:42 PM\n",
      "5/20/2006 2:06:57 PM\n",
      "5/20/2006 2:07:12 PM\n",
      "5/20/2006 2:07:27 PM\n",
      "5/20/2006 2:07:42 PM\n",
      "5/20/2006 2:07:57 PM\n",
      "5/20/2006 2:08:12 PM\n",
      "5/20/2006 2:08:27 PM\n",
      "5/20/2006 2:08:42 PM\n",
      "5/20/2006 2:08:57 PM\n",
      "5/20/2006 2:09:12 PM\n",
      "5/20/2006 2:09:27 PM\n",
      "5/20/2006 2:09:42 PM\n",
      "5/20/2006 2:09:57 PM\n",
      "5/20/2006 2:10:12 PM\n",
      "5/20/2006 2:10:27 PM\n",
      "5/20/2006 2:10:42 PM\n",
      "5/20/2006 2:10:57 PM\n",
      "5/20/2006 2:11:12 PM\n",
      "5/20/2006 2:11:27 PM\n",
      "5/20/2006 2:11:42 PM\n",
      "5/20/2006 2:11:57 PM\n",
      "5/20/2006 2:12:12 PM\n",
      "5/20/2006 2:12:27 PM\n",
      "5/20/2006 2:12:42 PM\n",
      "5/20/2006 2:12:57 PM\n",
      "5/20/2006 2:13:12 PM\n",
      "5/20/2006 2:13:27 PM\n",
      "5/20/2006 2:13:42 PM\n",
      "5/20/2006 2:13:57 PM\n",
      "5/20/2006 2:14:12 PM\n",
      "5/20/2006 2:14:27 PM\n",
      "5/20/2006 2:14:42 PM\n",
      "5/20/2006 2:14:57 PM\n",
      "5/20/2006 2:15:12 PM\n",
      "5/20/2006 2:15:27 PM\n",
      "5/20/2006 2:15:42 PM\n",
      "5/20/2006 2:15:57 PM\n",
      "5/20/2006 2:16:12 PM\n",
      "5/20/2006 2:16:27 PM\n",
      "5/20/2006 2:16:42 PM\n",
      "5/20/2006 2:16:57 PM\n",
      "5/20/2006 2:17:12 PM\n",
      "5/20/2006 2:17:27 PM\n",
      "5/20/2006 2:17:42 PM\n",
      "5/20/2006 2:17:57 PM\n",
      "5/20/2006 2:18:12 PM\n",
      "5/20/2006 2:18:27 PM\n",
      "5/20/2006 2:18:42 PM\n",
      "5/20/2006 2:18:57 PM\n",
      "5/20/2006 2:19:12 PM\n",
      "5/20/2006 2:19:27 PM\n",
      "5/20/2006 2:19:42 PM\n",
      "5/20/2006 2:19:57 PM\n",
      "5/20/2006 2:20:12 PM\n",
      "5/20/2006 2:20:27 PM\n",
      "5/20/2006 2:20:42 PM\n",
      "5/20/2006 2:20:57 PM\n",
      "5/20/2006 2:21:12 PM\n",
      "5/20/2006 2:21:27 PM\n",
      "5/20/2006 2:21:42 PM\n",
      "5/20/2006 2:21:57 PM\n",
      "5/20/2006 2:22:12 PM\n",
      "5/20/2006 2:22:27 PM\n",
      "5/20/2006 2:22:42 PM\n",
      "5/20/2006 2:22:57 PM\n",
      "5/20/2006 2:23:13 PM\n",
      "5/20/2006 2:23:28 PM\n",
      "5/20/2006 2:23:43 PM\n",
      "5/20/2006 2:23:58 PM\n",
      "5/20/2006 2:24:13 PM\n",
      "5/20/2006 2:24:28 PM\n",
      "5/20/2006 2:24:43 PM\n",
      "5/20/2006 2:24:58 PM\n",
      "5/20/2006 2:25:13 PM\n",
      "5/20/2006 2:25:28 PM\n",
      "5/20/2006 2:25:43 PM\n",
      "5/20/2006 2:25:58 PM\n",
      "5/20/2006 2:26:13 PM\n",
      "5/20/2006 2:26:28 PM\n",
      "5/20/2006 2:26:43 PM\n",
      "5/20/2006 2:26:58 PM\n",
      "5/20/2006 2:27:13 PM\n",
      "5/20/2006 2:27:28 PM\n",
      "5/20/2006 2:27:43 PM\n",
      "5/20/2006 2:27:58 PM\n",
      "5/20/2006 2:28:13 PM\n",
      "5/20/2006 2:28:28 PM\n",
      "5/20/2006 2:28:43 PM\n",
      "5/20/2006 2:28:58 PM\n",
      "5/20/2006 2:29:13 PM\n",
      "5/20/2006 2:29:28 PM\n",
      "5/20/2006 2:29:43 PM\n",
      "5/20/2006 2:29:58 PM\n",
      "5/20/2006 2:30:13 PM\n",
      "5/20/2006 2:30:28 PM\n",
      "5/20/2006 2:30:43 PM\n",
      "5/20/2006 2:30:58 PM\n",
      "5/20/2006 2:31:13 PM\n",
      "5/20/2006 2:31:28 PM\n",
      "5/20/2006 2:31:43 PM\n",
      "5/20/2006 2:31:58 PM\n",
      "5/20/2006 2:32:13 PM\n",
      "5/20/2006 2:32:28 PM\n",
      "5/20/2006 2:32:43 PM\n",
      "5/20/2006 2:32:58 PM\n",
      "5/20/2006 2:33:13 PM\n",
      "5/20/2006 2:33:28 PM\n",
      "5/20/2006 2:33:43 PM\n",
      "5/20/2006 2:33:58 PM\n",
      "5/20/2006 2:34:13 PM\n",
      "5/20/2006 2:34:28 PM\n",
      "5/20/2006 2:34:43 PM\n",
      "5/20/2006 2:34:58 PM\n",
      "5/20/2006 2:35:13 PM\n",
      "5/20/2006 2:35:28 PM\n",
      "5/20/2006 2:35:43 PM\n",
      "5/20/2006 2:35:58 PM\n",
      "5/20/2006 2:36:13 PM\n",
      "5/20/2006 2:36:28 PM\n",
      "5/20/2006 2:36:43 PM\n",
      "5/20/2006 2:36:58 PM\n",
      "5/20/2006 2:37:13 PM\n",
      "5/20/2006 2:37:28 PM\n",
      "5/20/2006 2:37:43 PM\n",
      "5/20/2006 2:37:58 PM\n",
      "5/20/2006 2:38:13 PM\n",
      "5/20/2006 2:38:28 PM\n",
      "5/20/2006 2:38:43 PM\n",
      "5/20/2006 2:38:58 PM\n",
      "5/20/2006 2:39:14 PM\n",
      "5/20/2006 2:39:29 PM\n",
      "5/20/2006 2:39:44 PM\n",
      "5/20/2006 2:39:59 PM\n",
      "5/20/2006 2:40:14 PM\n",
      "5/20/2006 2:40:29 PM\n",
      "5/20/2006 2:40:44 PM\n",
      "5/20/2006 2:40:59 PM\n",
      "5/20/2006 2:41:14 PM\n",
      "5/20/2006 2:41:29 PM\n",
      "5/20/2006 2:41:44 PM\n",
      "5/20/2006 2:41:59 PM\n",
      "5/20/2006 2:42:15 PM\n",
      "5/20/2006 2:42:30 PM\n",
      "5/20/2006 2:42:45 PM\n",
      "5/20/2006 2:43:00 PM\n",
      "5/20/2006 2:43:15 PM\n",
      "5/20/2006 2:43:30 PM\n",
      "5/20/2006 2:43:45 PM\n",
      "5/20/2006 2:44:00 PM\n",
      "5/20/2006 2:44:15 PM\n",
      "5/20/2006 2:44:30 PM\n",
      "5/20/2006 2:44:45 PM\n",
      "5/20/2006 2:45:00 PM\n",
      "5/20/2006 2:45:15 PM\n",
      "5/20/2006 2:45:30 PM\n",
      "5/20/2006 2:45:45 PM\n",
      "5/20/2006 2:46:00 PM\n",
      "5/20/2006 2:46:15 PM\n",
      "5/20/2006 2:46:30 PM\n",
      "5/20/2006 2:46:45 PM\n",
      "5/20/2006 2:47:00 PM\n",
      "5/20/2006 2:47:15 PM\n",
      "5/20/2006 2:47:30 PM\n",
      "5/20/2006 2:47:45 PM\n",
      "5/20/2006 2:48:00 PM\n",
      "5/20/2006 2:48:15 PM\n",
      "5/20/2006 2:48:30 PM\n",
      "5/20/2006 2:48:45 PM\n",
      "5/20/2006 2:49:00 PM\n",
      "5/20/2006 2:49:15 PM\n",
      "5/20/2006 2:49:30 PM\n",
      "5/20/2006 2:49:45 PM\n",
      "5/20/2006 2:50:00 PM\n",
      "5/20/2006 2:50:15 PM\n",
      "5/20/2006 2:50:30 PM\n",
      "5/20/2006 2:50:45 PM\n",
      "5/20/2006 2:51:00 PM\n",
      "5/20/2006 2:51:15 PM\n",
      "5/20/2006 2:51:30 PM\n",
      "5/20/2006 2:51:45 PM\n",
      "5/20/2006 2:52:00 PM\n",
      "5/20/2006 2:52:15 PM\n",
      "5/20/2006 2:52:30 PM\n",
      "5/20/2006 2:52:45 PM\n",
      "5/20/2006 2:53:01 PM\n",
      "5/20/2006 2:53:16 PM\n",
      "5/20/2006 2:53:31 PM\n",
      "5/20/2006 2:53:46 PM\n",
      "5/20/2006 2:54:01 PM\n",
      "5/20/2006 2:54:16 PM\n",
      "5/20/2006 2:54:31 PM\n",
      "5/20/2006 2:54:46 PM\n",
      "5/20/2006 2:55:01 PM\n",
      "5/20/2006 2:55:16 PM\n",
      "5/20/2006 2:55:31 PM\n",
      "5/20/2006 2:55:46 PM\n",
      "5/20/2006 2:56:01 PM\n",
      "5/20/2006 2:56:16 PM\n",
      "5/20/2006 2:56:31 PM\n",
      "5/20/2006 2:56:46 PM\n",
      "5/20/2006 2:57:01 PM\n",
      "5/20/2006 2:57:16 PM\n",
      "5/20/2006 2:57:31 PM\n",
      "5/20/2006 2:57:46 PM\n",
      "5/20/2006 2:58:01 PM\n",
      "5/20/2006 2:58:16 PM\n",
      "5/20/2006 2:58:31 PM\n",
      "5/20/2006 2:58:46 PM\n",
      "5/20/2006 2:59:01 PM\n",
      "5/20/2006 2:59:16 PM\n",
      "5/20/2006 2:59:31 PM\n",
      "5/20/2006 2:59:46 PM\n",
      "5/20/2006 3:00:01 PM\n",
      "5/20/2006 3:00:16 PM\n",
      "5/20/2006 3:00:31 PM\n",
      "5/20/2006 3:00:46 PM\n",
      "5/20/2006 3:01:01 PM\n",
      "5/20/2006 3:01:16 PM\n",
      "5/20/2006 3:01:31 PM\n",
      "5/20/2006 3:01:46 PM\n",
      "5/20/2006 3:02:01 PM\n",
      "5/20/2006 3:02:16 PM\n",
      "5/20/2006 3:02:31 PM\n",
      "5/20/2006 3:02:46 PM\n",
      "5/20/2006 3:03:01 PM\n",
      "5/20/2006 3:03:16 PM\n",
      "5/20/2006 3:03:31 PM\n",
      "5/20/2006 3:03:46 PM\n",
      "5/20/2006 3:04:01 PM\n",
      "5/20/2006 3:04:16 PM\n",
      "5/20/2006 3:04:31 PM\n",
      "5/20/2006 3:04:46 PM\n",
      "5/20/2006 3:05:01 PM\n",
      "5/20/2006 3:05:16 PM\n",
      "5/20/2006 3:05:31 PM\n",
      "5/20/2006 3:05:46 PM\n",
      "5/20/2006 3:06:01 PM\n",
      "5/20/2006 3:06:16 PM\n",
      "5/20/2006 3:06:31 PM\n",
      "5/20/2006 3:06:46 PM\n",
      "5/20/2006 3:07:01 PM\n",
      "5/20/2006 3:07:16 PM\n",
      "5/20/2006 3:07:31 PM\n",
      "5/20/2006 3:07:46 PM\n",
      "5/20/2006 3:08:01 PM\n",
      "5/20/2006 3:08:16 PM\n",
      "5/20/2006 3:08:31 PM\n",
      "5/20/2006 3:08:46 PM\n",
      "5/20/2006 3:09:01 PM\n",
      "5/20/2006 3:09:16 PM\n",
      "5/20/2006 3:09:31 PM\n",
      "5/20/2006 3:09:46 PM\n",
      "5/20/2006 3:10:01 PM\n",
      "5/20/2006 3:10:16 PM\n",
      "5/20/2006 3:10:31 PM\n",
      "5/20/2006 3:10:46 PM\n",
      "5/20/2006 3:11:01 PM\n",
      "5/20/2006 3:11:16 PM\n",
      "5/20/2006 3:11:31 PM\n",
      "5/20/2006 3:11:46 PM\n",
      "5/20/2006 3:12:01 PM\n",
      "5/20/2006 3:12:16 PM\n",
      "5/20/2006 3:12:31 PM\n",
      "5/20/2006 3:12:46 PM\n",
      "5/20/2006 3:13:01 PM\n",
      "5/20/2006 3:13:16 PM\n",
      "5/20/2006 3:13:31 PM\n",
      "5/20/2006 3:13:46 PM\n",
      "5/20/2006 3:14:01 PM\n",
      "5/20/2006 3:14:16 PM\n",
      "5/20/2006 3:14:31 PM\n",
      "5/20/2006 3:14:46 PM\n",
      "5/20/2006 3:15:01 PM\n",
      "5/20/2006 3:15:16 PM\n",
      "5/20/2006 3:15:31 PM\n",
      "5/20/2006 3:15:46 PM\n",
      "5/20/2006 3:16:01 PM\n",
      "5/20/2006 3:16:16 PM\n",
      "5/20/2006 3:16:31 PM\n",
      "5/20/2006 3:16:46 PM\n",
      "5/20/2006 3:17:01 PM\n",
      "5/20/2006 3:17:16 PM\n",
      "5/20/2006 3:17:31 PM\n",
      "5/20/2006 3:17:46 PM\n",
      "5/20/2006 3:18:01 PM\n",
      "5/20/2006 3:18:16 PM\n",
      "5/20/2006 3:18:31 PM\n",
      "5/20/2006 3:18:46 PM\n",
      "5/20/2006 3:19:01 PM\n",
      "5/20/2006 3:19:16 PM\n",
      "5/20/2006 3:19:31 PM\n",
      "5/20/2006 3:19:46 PM\n",
      "5/20/2006 3:20:01 PM\n",
      "5/20/2006 3:20:16 PM\n",
      "5/20/2006 3:20:31 PM\n",
      "5/20/2006 3:20:46 PM\n",
      "5/20/2006 3:21:01 PM\n",
      "5/20/2006 3:21:16 PM\n",
      "5/20/2006 3:21:31 PM\n",
      "5/20/2006 3:21:46 PM\n",
      "5/20/2006 3:22:01 PM\n",
      "5/20/2006 3:22:16 PM\n",
      "5/20/2006 3:22:31 PM\n",
      "5/20/2006 3:22:46 PM\n",
      "5/20/2006 3:23:01 PM\n",
      "5/20/2006 3:23:16 PM\n",
      "5/20/2006 3:23:31 PM\n",
      "5/20/2006 3:23:46 PM\n",
      "5/20/2006 3:24:01 PM\n",
      "5/20/2006 3:24:16 PM\n",
      "5/20/2006 3:24:31 PM\n",
      "5/20/2006 3:24:46 PM\n",
      "5/20/2006 3:25:01 PM\n",
      "5/20/2006 3:25:16 PM\n",
      "5/20/2006 3:25:31 PM\n",
      "5/20/2006 3:25:46 PM\n",
      "5/20/2006 3:26:01 PM\n",
      "5/20/2006 3:26:16 PM\n",
      "5/20/2006 3:26:31 PM\n",
      "5/20/2006 3:26:46 PM\n",
      "5/20/2006 3:27:01 PM\n",
      "5/20/2006 3:27:16 PM\n",
      "5/20/2006 3:27:31 PM\n",
      "5/20/2006 3:27:46 PM\n",
      "5/20/2006 3:28:01 PM\n",
      "5/20/2006 3:28:16 PM\n",
      "5/20/2006 3:28:32 PM\n",
      "5/20/2006 3:28:47 PM\n",
      "5/20/2006 3:29:02 PM\n",
      "5/20/2006 3:29:17 PM\n",
      "5/20/2006 3:29:32 PM\n",
      "5/20/2006 3:29:47 PM\n",
      "5/20/2006 3:30:02 PM\n",
      "5/20/2006 3:30:17 PM\n",
      "5/20/2006 3:30:32 PM\n",
      "5/20/2006 3:30:47 PM\n",
      "5/20/2006 3:31:02 PM\n",
      "5/20/2006 3:31:17 PM\n",
      "5/20/2006 3:31:32 PM\n",
      "5/20/2006 3:31:47 PM\n",
      "5/20/2006 3:31:48 PM\n"
     ]
    },
    {
     "ename": "IndexError",
     "evalue": "list index out of range",
     "output_type": "error",
     "traceback": [
      "\u001b[0;31m---------------------------------------------------------------------------\u001b[0m",
      "\u001b[0;31mIndexError\u001b[0m                                Traceback (most recent call last)",
      "\u001b[0;32m<ipython-input-132-d275f89f509c>\u001b[0m in \u001b[0;36m<module>\u001b[0;34m()\u001b[0m\n\u001b[1;32m      5\u001b[0m         \u001b[0;32mcontinue\u001b[0m\u001b[0;34m\u001b[0m\u001b[0m\n\u001b[1;32m      6\u001b[0m     \u001b[0;32mif\u001b[0m \u001b[0mdata\u001b[0m\u001b[0;34m[\u001b[0m\u001b[0;36m0\u001b[0m\u001b[0;34m]\u001b[0m \u001b[0;34m==\u001b[0m \u001b[0;34m'Trackpoint'\u001b[0m\u001b[0;34m:\u001b[0m\u001b[0;34m\u001b[0m\u001b[0m\n\u001b[0;32m----> 7\u001b[0;31m         \u001b[0mprint\u001b[0m\u001b[0;34m(\u001b[0m\u001b[0mdata\u001b[0m\u001b[0;34m[\u001b[0m\u001b[0;36m5\u001b[0m\u001b[0;34m]\u001b[0m \u001b[0;34m+\u001b[0m \u001b[0;34m' '\u001b[0m \u001b[0;34m+\u001b[0m \u001b[0mdata\u001b[0m\u001b[0;34m[\u001b[0m\u001b[0;36m6\u001b[0m\u001b[0;34m]\u001b[0m \u001b[0;34m+\u001b[0m \u001b[0;34m' '\u001b[0m \u001b[0;34m+\u001b[0m \u001b[0mdata\u001b[0m\u001b[0;34m[\u001b[0m\u001b[0;36m7\u001b[0m\u001b[0;34m]\u001b[0m\u001b[0;34m)\u001b[0m\u001b[0;34m\u001b[0m\u001b[0m\n\u001b[0m\u001b[1;32m      8\u001b[0m     \u001b[0;32melif\u001b[0m \u001b[0;34m'LEGOLAS'\u001b[0m \u001b[0;32min\u001b[0m \u001b[0mline\u001b[0m \u001b[0;34m==\u001b[0m \u001b[0;32mTrue\u001b[0m\u001b[0;34m:\u001b[0m\u001b[0;34m\u001b[0m\u001b[0m\n\u001b[1;32m      9\u001b[0m         \u001b[0;32mbreak\u001b[0m\u001b[0;34m\u001b[0m\u001b[0m\n",
      "\u001b[0;31mIndexError\u001b[0m: list index out of range"
     ]
    }
   ],
   "source": [
    "f.seek(0)\n",
    "for line in f.readlines():\n",
    "    data = line.split()\n",
    "    if not data:\n",
    "        continue\n",
    "    if data[0] == 'Trackpoint':\n",
    "        print(data[5] + ' ' + data[6] + ' ' + data[7])\n",
    "    elif 'LEGOLAS' in line == True:\n",
    "        break"
   ]
  },
  {
   "cell_type": "code",
   "execution_count": 145,
   "metadata": {
    "collapsed": false
   },
   "outputs": [
    {
     "ename": "ValueError",
     "evalue": "invalid literal for int() with base 10: ''",
     "output_type": "error",
     "traceback": [
      "\u001b[0;31m---------------------------------------------------------------------------\u001b[0m",
      "\u001b[0;31mValueError\u001b[0m                                Traceback (most recent call last)",
      "\u001b[0;32m<ipython-input-145-d3a13fb4f147>\u001b[0m in \u001b[0;36m<module>\u001b[0;34m()\u001b[0m\n\u001b[1;32m     16\u001b[0m         \u001b[0mlon\u001b[0m \u001b[0;34m=\u001b[0m \u001b[0mint\u001b[0m\u001b[0;34m(\u001b[0m\u001b[0mdata\u001b[0m\u001b[0;34m[\u001b[0m\u001b[0;36m3\u001b[0m\u001b[0;34m]\u001b[0m\u001b[0;34m[\u001b[0m\u001b[0;36m1\u001b[0m\u001b[0;34m:\u001b[0m\u001b[0;34m]\u001b[0m\u001b[0;34m)\u001b[0m \u001b[0;34m+\u001b[0m \u001b[0mfloat\u001b[0m\u001b[0;34m(\u001b[0m\u001b[0mdata\u001b[0m\u001b[0;34m[\u001b[0m\u001b[0;36m4\u001b[0m\u001b[0;34m]\u001b[0m\u001b[0;34m)\u001b[0m\u001b[0;34m/\u001b[0m\u001b[0;36m60\u001b[0m\u001b[0;34m\u001b[0m\u001b[0m\n\u001b[1;32m     17\u001b[0m         \u001b[0mlongAL\u001b[0m\u001b[0;34m.\u001b[0m\u001b[0mappend\u001b[0m\u001b[0;34m(\u001b[0m\u001b[0mlon\u001b[0m\u001b[0;34m)\u001b[0m\u001b[0;34m\u001b[0m\u001b[0m\n\u001b[0;32m---> 18\u001b[0;31m         \u001b[0msp\u001b[0m \u001b[0;34m=\u001b[0m \u001b[0mint\u001b[0m\u001b[0;34m(\u001b[0m\u001b[0mdata\u001b[0m\u001b[0;34m[\u001b[0m\u001b[0;36m13\u001b[0m\u001b[0;34m]\u001b[0m\u001b[0;34m[\u001b[0m\u001b[0;36m1\u001b[0m\u001b[0;34m:\u001b[0m\u001b[0;34m]\u001b[0m\u001b[0;34m)\u001b[0m \u001b[0;34m+\u001b[0m \u001b[0mfloat\u001b[0m\u001b[0;34m(\u001b[0m\u001b[0mdata\u001b[0m\u001b[0;34m[\u001b[0m\u001b[0;36m14\u001b[0m\u001b[0;34m]\u001b[0m\u001b[0;34m/\u001b[0m\u001b[0;36m60\u001b[0m\u001b[0;34m)\u001b[0m\u001b[0;34m\u001b[0m\u001b[0m\n\u001b[0m\u001b[1;32m     19\u001b[0m         \u001b[0mspAL\u001b[0m\u001b[0;34m.\u001b[0m\u001b[0mappend\u001b[0m\u001b[0;34m(\u001b[0m\u001b[0msp\u001b[0m\u001b[0;34m)\u001b[0m\u001b[0;34m\u001b[0m\u001b[0m\n\u001b[1;32m     20\u001b[0m         \u001b[0;31m# These math operations are basically converting strings to actual numbers\u001b[0m\u001b[0;34m\u001b[0m\u001b[0;34m\u001b[0m\u001b[0m\n",
      "\u001b[0;31mValueError\u001b[0m: invalid literal for int() with base 10: ''"
     ]
    }
   ],
   "source": [
    "f.seek(0)\n",
    "# Create a dictionary for 'Active Log' and put assign three lists to that dictionary\n",
    "# lat = latitude, long = longitude, sp = speed\n",
    "latAL = []\n",
    "longAL = []\n",
    "spAL = []\n",
    "\n",
    "for line in f.readlines():\n",
    "    data = line.split()\n",
    "    if not data:\n",
    "        continue\n",
    "    if data[0] == 'Trackpoint':\n",
    "        lat = int(data[1][1:]) + float(data[2])/60   # Convert to float and ...\n",
    "        # the index to data[1] is used to trim the 'N' off of the string.\n",
    "        latAL.append(lat) # append that value produced to the sequence where it's being stored\n",
    "        lon = int(data[3][1:]) + float(data[4])/60   \n",
    "        longAL.append(lon)\n",
    "        sp = int(data[13][1:]) + float(data[14]/60)\n",
    "        spAL.append(sp)\n",
    "        # These math operations are basically converting strings to actual numbers\n",
    "    while 'LEGOLAS' in line in data == True:\n",
    "        break\n",
    "print(latAL, longAL)"
   ]
  },
  {
   "cell_type": "code",
   "execution_count": null,
   "metadata": {
    "collapsed": true
   },
   "outputs": [],
   "source": [
    "LEGOLAS = {latLEG, longLEG, spLEG}\n",
    "MERIADOC = {latM, longM, spM}\n",
    "SAMWISE = {latSAM, lngSAM, spSAM}\n",
    "STRIDER = {latST, longST, spST}"
   ]
  },
  {
   "cell_type": "markdown",
   "metadata": {},
   "source": [
    "## 11. Constructing terms in Taylor series to approximate a function"
   ]
  },
  {
   "cell_type": "code",
   "execution_count": 16,
   "metadata": {
    "collapsed": false
   },
   "outputs": [
    {
     "data": {
      "text/plain": [
       "0.4794255386164159"
      ]
     },
     "execution_count": 16,
     "metadata": {},
     "output_type": "execute_result"
    }
   ],
   "source": [
    "# Define the sine function and then define the factorial within the Taylor series\n",
    "def sin(x,n):\n",
    "    sine = 0 # Start sine at zero\n",
    "    for num in range(n): # Split the numerator into two parts\n",
    "        sign = (-1)**num\n",
    "        sine = sine + ((x**(2.0*num+1))/factorial(2*num+1))*sign\n",
    "    return sine\n",
    "\n",
    "def factorial(n):\n",
    "    if n == 0:\n",
    "        return 1\n",
    "    else:\n",
    "        return n*factorial(n-1)\n",
    "    \n",
    "sin(0.5,5)"
   ]
  }
 ],
 "metadata": {
  "kernelspec": {
   "display_name": "Python 3",
   "language": "python",
   "name": "python3"
  },
  "language_info": {
   "codemirror_mode": {
    "name": "ipython",
    "version": 3
   },
   "file_extension": ".py",
   "mimetype": "text/x-python",
   "name": "python",
   "nbconvert_exporter": "python",
   "pygments_lexer": "ipython3",
   "version": "3.5.1"
  }
 },
 "nbformat": 4,
 "nbformat_minor": 0
}
