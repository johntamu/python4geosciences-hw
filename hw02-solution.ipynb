{
 "cells": [
  {
   "cell_type": "code",
   "execution_count": 19,
   "metadata": {
    "collapsed": false
   },
   "outputs": [
    {
     "data": {
      "text/plain": [
       "{'Department': 'Geography',\n",
       " 'Hometown': 'Santa Cruz, California',\n",
       " 'Name': 'John Schiff',\n",
       " 'Purpose': 'My goal is proficiency with Python for data analysis in my paleoceanographic research',\n",
       " 'Status': 'PhD',\n",
       " 'Years at TAMU': 'Almost 2'}"
      ]
     },
     "execution_count": 19,
     "metadata": {},
     "output_type": "execute_result"
    }
   ],
   "source": [
    "d = {} # Empty dictionary\n",
    "# Fill in the entries one by one\n",
    "# Different from d = {'a':3} method from materials\n",
    "# This method is used to assign new values to an already existing dictionary\n",
    "d[\"Name\"] = 'John Schiff'\n",
    "d[\"Hometown\"] = 'Santa Cruz, California'\n",
    "d[\"Department\"] = 'Geography'\n",
    "d[\"Status\"] = 'PhD'\n",
    "d[\"Years at TAMU\"] = 'Almost 2'\n",
    "d[\"Purpose\"] = \"My goal is proficiency with Python for data analysis in my paleoceanographic research\"\n",
    "d"
   ]
  },
  {
   "cell_type": "markdown",
   "metadata": {},
   "source": [
    "## 2 Vowel Test"
   ]
  },
  {
   "cell_type": "code",
   "execution_count": 103,
   "metadata": {
    "collapsed": false
   },
   "outputs": [],
   "source": [
    "def isVowel(charac): # \"charac\" refers to any given character, i.e. a string of length 1\n",
    "    \"\"\"Check if an inputed character is a vowel\"\"\"\n",
    "    return charac.lower() in 'aeiou'\n",
    "    # Basically, with this function we ask if \"charac\" is the same as any of the defined vowels above\n",
    "    # the lower() takes into account upper and lower cases of characters by returning all characters as lower case"
   ]
  },
  {
   "cell_type": "code",
   "execution_count": 104,
   "metadata": {
    "collapsed": false
   },
   "outputs": [
    {
     "data": {
      "text/plain": [
       "True"
      ]
     },
     "execution_count": 104,
     "metadata": {},
     "output_type": "execute_result"
    }
   ],
   "source": [
    "isVowel(\"a\")"
   ]
  },
  {
   "cell_type": "code",
   "execution_count": 102,
   "metadata": {
    "collapsed": false
   },
   "outputs": [
    {
     "data": {
      "text/plain": [
       "True"
      ]
     },
     "execution_count": 102,
     "metadata": {},
     "output_type": "execute_result"
    }
   ],
   "source": [
    "isVowel(\"A\")"
   ]
  },
  {
   "cell_type": "markdown",
   "metadata": {},
   "source": [
    "## 3 Compute length of a given list OR string"
   ]
  },
  {
   "cell_type": "code",
   "execution_count": 47,
   "metadata": {
    "collapsed": false
   },
   "outputs": [
    {
     "data": {
      "text/plain": [
       "2"
      ]
     },
     "execution_count": 47,
     "metadata": {},
     "output_type": "execute_result"
    }
   ],
   "source": [
    "def length(input):\n",
    "    count = 0 # Count starts from zero\n",
    "    for x in input:\n",
    "        count += 1\n",
    "    return (count) # Returns the number of characters in the word or number of words in the list\n",
    "\n",
    "length([\"word\",\"word2\"])"
   ]
  },
  {
   "cell_type": "code",
   "execution_count": 48,
   "metadata": {
    "collapsed": false
   },
   "outputs": [
    {
     "data": {
      "text/plain": [
       "5"
      ]
     },
     "execution_count": 48,
     "metadata": {},
     "output_type": "execute_result"
    }
   ],
   "source": [
    "length(\"word1\")"
   ]
  },
  {
   "cell_type": "markdown",
   "metadata": {},
   "source": [
    "## 4 Reverse a string"
   ]
  },
  {
   "cell_type": "code",
   "execution_count": 6,
   "metadata": {
    "collapsed": false
   },
   "outputs": [
    {
     "data": {
      "text/plain": [
       "'dlrow olleh'"
      ]
     },
     "execution_count": 6,
     "metadata": {},
     "output_type": "execute_result"
    }
   ],
   "source": [
    "def reverse(input):\n",
    "    \"\"\"Reverses a string\"\"\"\n",
    "    return input[::-1]\n",
    "# Using the ::-1 format utilizes the start:stop:stride method; i.e., with a stride of -1, we are going backwards\n",
    "\n",
    "reverse('hello world')"
   ]
  },
  {
   "cell_type": "markdown",
   "metadata": {},
   "source": [
    "## 5 Check for palindromes\n"
   ]
  },
  {
   "cell_type": "code",
   "execution_count": 7,
   "metadata": {
    "collapsed": false
   },
   "outputs": [
    {
     "data": {
      "text/plain": [
       "False"
      ]
     },
     "execution_count": 7,
     "metadata": {},
     "output_type": "execute_result"
    }
   ],
   "source": [
    "def check(input):\n",
    "    \"\"\"Checks if the input is a palindrome\"\"\"\n",
    "    joined = ''.join(input) # Accounts for spaces, so any input is condensed to str characters only\n",
    "    lowered_text = joined.lower()\n",
    "    # What I'm doing here is setting it so any inputted strings are converted to lowere case\n",
    "    # Makes accounting for this easier\n",
    "    \n",
    "    if lowered_text == lowered_text[::-1]:\n",
    "        return True\n",
    "    \n",
    "    else:\n",
    "        return False\n",
    "    \n",
    "check(\"test\")"
   ]
  },
  {
   "cell_type": "code",
   "execution_count": 8,
   "metadata": {
    "collapsed": false
   },
   "outputs": [
    {
     "data": {
      "text/plain": [
       "True"
      ]
     },
     "execution_count": 8,
     "metadata": {},
     "output_type": "execute_result"
    }
   ],
   "source": [
    "check(\"Able was i ere i saw Elba\")"
   ]
  },
  {
   "cell_type": "markdown",
   "metadata": {},
   "source": [
    "## 6 Number lines in a text file"
   ]
  },
  {
   "cell_type": "code",
   "execution_count": 56,
   "metadata": {
    "collapsed": false
   },
   "outputs": [
    {
     "name": "stdout",
     "output_type": "stream",
     "text": [
      "1 This is the first line\n",
      "\n",
      "2 This is the second line\n",
      "\n",
      "3 This is the third line\n"
     ]
    }
   ],
   "source": [
    "file = open('hw02.txt')\n",
    "r = file.readlines()\n",
    "count = 0\n",
    "for line in r:\n",
    "    \n",
    "    if not line.strip():\n",
    "        continue\n",
    "    else:\n",
    "        count += 1\n",
    "        print(count,line)"
   ]
  },
  {
   "cell_type": "code",
   "execution_count": 79,
   "metadata": {
    "collapsed": false
   },
   "outputs": [],
   "source": [
    "file = open('hw02.txt')\n",
    "r = file.readlines()\n",
    "\n",
    "count = 0\n",
    "\n",
    "f = open('numbered_lines.dat', 'w')\n",
    "for line in r:\n",
    "    if not line.strip():\n",
    "        continue\n",
    "    else:\n",
    "        count += 1\n",
    "        f.write('{:.0f}, {}'.format(count, line))\n",
    "        \n",
    "f.close()"
   ]
  },
  {
   "cell_type": "code",
   "execution_count": 61,
   "metadata": {
    "collapsed": false
   },
   "outputs": [],
   "source": [
    "with open('numbered_lines.dat', 'w') as f:\n",
    "    f.write('{:.0f}, {}'.format(count, line))"
   ]
  },
  {
   "cell_type": "markdown",
   "metadata": {},
   "source": [
    "## 7. Convert list of words into list of integers of lengths of words"
   ]
  },
  {
   "cell_type": "code",
   "execution_count": 43,
   "metadata": {
    "collapsed": false
   },
   "outputs": [
    {
     "name": "stdout",
     "output_type": "stream",
     "text": [
      "3\n",
      "3\n",
      "2\n",
      "4\n"
     ]
    }
   ],
   "source": [
    "def method1(input):\n",
    "    \"\"\"Return length of words in a list using a for loop\"\"\"\n",
    "    wordlist = input.split()\n",
    "    for word in wordlist:\n",
    "        r = length(word)\n",
    "        print(r)\n",
    "    \n",
    "method1('dog cat ox bird')\n",
    "# Results in list of four words\n",
    "# Now it only counts the first word instead of all of them\n",
    "# Make it return a list of integers"
   ]
  },
  {
   "cell_type": "code",
   "execution_count": 40,
   "metadata": {
    "collapsed": false
   },
   "outputs": [
    {
     "name": "stdout",
     "output_type": "stream",
     "text": [
      "3\n",
      "3\n",
      "2\n",
      "4\n"
     ]
    }
   ],
   "source": [
    "def method2(input):\n",
    "    \"\"\"Return length of words in a list using the map() function\"\"\"\n",
    "    wordlist = input.split()\n",
    "    for word in map(length, wordlist):\n",
    "        print(word)\n",
    "\n",
    "method2('cat dog ox bird')"
   ]
  },
  {
   "cell_type": "code",
   "execution_count": 46,
   "metadata": {
    "collapsed": false
   },
   "outputs": [
    {
     "name": "stdout",
     "output_type": "stream",
     "text": [
      "[3, 3, 2, 4]\n"
     ]
    }
   ],
   "source": [
    "def method3(input):\n",
    "    \"\"\"Return length of words in a given list using list comprehension\"\"\"\n",
    "    wordlist = input.split()\n",
    "    r = [length(word) for word in wordlist]\n",
    "    print(r)\n",
    "    \n",
    "method3('dog cat ox bird')\n",
    "# This results in an actual list output of the integers representing the lengths of the individual words\n",
    "# I'd therefore probably go with this in the future"
   ]
  },
  {
   "cell_type": "markdown",
   "metadata": {},
   "source": [
    "## 8 Encode or Decode Using ROT13"
   ]
  },
  {
   "cell_type": "code",
   "execution_count": 21,
   "metadata": {
    "collapsed": false
   },
   "outputs": [],
   "source": [
    "key = {'a':'n', 'b':'o', 'c':'p', 'd':'q', 'e':'r', 'f':'s', 'g':'t', 'h':'u', \n",
    "       'i':'v', 'j':'w', 'k':'x', 'l':'y', 'm':'z', 'n':'a', 'o':'b', 'p':'c', \n",
    "       'q':'d', 'r':'e', 's':'f', 't':'g', 'u':'h', 'v':'i', 'w':'j', 'x':'k',\n",
    "       'y':'l', 'z':'m', 'A':'N', 'B':'O', 'C':'P', 'D':'Q', 'E':'R', 'F':'S', \n",
    "       'G':'T', 'H':'U', 'I':'V', 'J':'W', 'K':'X', 'L':'Y', 'M':'Z', 'N':'A', \n",
    "       'O':'B', 'P':'C', 'Q':'D', 'R':'E', 'S':'F', 'T':'G', 'U':'H', 'V':'I', \n",
    "       'W':'J', 'X':'K', 'Y':'L', 'Z':'M'}\n",
    "\n",
    "def cipher(text_to_encode):\n",
    "    cipher = [] # Create a list for the cipher that information will be appended to\n",
    "    for character in text_to_encode:\n",
    "\n",
    "        if character.islower():\n",
    "            cipher.append(key.get(character))\n",
    "\n",
    "        elif character.isupper():\n",
    "            character = character.lower()\n",
    "            result = key.get(character)\n",
    "            cipher.append(result.capitalize())\n",
    "\n",
    "        elif character not in key: # This is to account for spaces and special characters like '?' or '!'\n",
    "            cipher.append(character)\n",
    "        \n",
    "    return ''.join(cipher)\n",
    "\n",
    "cipher('Pnrfne pvcure? V zhpu cersre Pnrfne fnynq!')"
   ]
  },
  {
   "cell_type": "markdown",
   "metadata": {},
   "source": [
    "## 9 Fix the Code"
   ]
  },
  {
   "cell_type": "code",
   "execution_count": 45,
   "metadata": {
    "collapsed": false
   },
   "outputs": [
    {
     "name": "stdout",
     "output_type": "stream",
     "text": [
      "3 bottles of beer on the wall, 3 bottles of beer.\n",
      "Take one down, pass it around, 2 bottles of beer on the wall.\n",
      "\n",
      "2 bottles of beer on the wall, 2 bottles of beer.\n",
      "Take one down, pass it around, 1 bottles of beer on the wall.\n",
      "\n",
      "1 bottle of beer on the wall, 1 bottle of beer.\n",
      "Take one down, pass it around, 0 bottles of beer on the wall.\n",
      "\n"
     ]
    }
   ],
   "source": [
    "def words(num):\n",
    "    \"\"\"Returns words with proper number of beer bottles filled in.\"\"\"\n",
    "    \n",
    "    if num != 1: # Changed indentation to four, added colon\n",
    "        print(str(num) + ' bottles of beer on the wall, ' + str(num) + ' bottles of beer.\\n' # Deleted +\n",
    "        'Take one down, pass it around, ' + str(num-1) + ' bottles of beer on the wall.') # Deleted \\n; removed indent\n",
    "        return '' # Added return '' to prevent \"None\" from appearing\n",
    "    \n",
    "    elif num == 1: # Requires '==' rather than '='\n",
    "        print(str(num) + ' bottle of beer on the wall, ' + str(num) + ' bottle of beer.\\n'\n",
    "        'Take one down, pass it around, ' + str(num-1) + ' bottles of beer on the wall.') # Deleted \\n; removed indent\n",
    "        return ''\n",
    "\n",
    "numbottles = 3\n",
    "\n",
    "for i in range(numbottles, 0, -1): # Not a list, removed brackets []; added colon\n",
    "    # Also changed step from '1' to '-1'; format: range(start, stop, step)\n",
    "    print(words(i)) # Changed indentation"
   ]
  },
  {
   "cell_type": "markdown",
   "metadata": {
    "collapsed": true
   },
   "source": [
    "## 10 Reading in and parsing a file"
   ]
  },
  {
   "cell_type": "code",
   "execution_count": 63,
   "metadata": {
    "collapsed": true
   },
   "outputs": [],
   "source": [
    "f = open('GPS.dat') # file was copy-pasted into homework file for easy opening"
   ]
  },
  {
   "cell_type": "code",
   "execution_count": 77,
   "metadata": {
    "collapsed": false
   },
   "outputs": [],
   "source": [
    "f.seek(0)\n",
    "# Create a dictionary for 'Active Log' and put assign three lists to that dictionary\n",
    "# lat = latitude, long = longitude, sp = speed\n",
    "latAL = []\n",
    "longAL = []\n",
    "spAL = []\n",
    "latLEG = []\n",
    "longLEG = []\n",
    "latM = []\n",
    "longM = []\n",
    "latSAM = []\n",
    "longSAM = []\n",
    "latSTR = []\n",
    "longSTR = []\n",
    "\n",
    "for line in f.readlines():\n",
    "    data = line.split()\n",
    "    if not data:\n",
    "        continue\n",
    "    if data[0] == 'Trackpoint':\n",
    "        lat = int(data[1][1:]) + float(data[2])/60\n",
    "        latAL.append(lat) # append that value produced to the sequence where it's being stored\n",
    "        lon = int(data[3][1:]) + float(data[4])/60\n",
    "        longAL.append(lon)\n",
    "        sp = data[6]\n",
    "        # defining what sp is equal to in the data file and then will append that data into the spAL list\n",
    "        # only ACTIVE LOG data set has a column for speed\n",
    "        spAL.append(sp)\n",
    "        if data[1] == 'LEGOLAS':\n",
    "            break\n",
    "        elif data[0] == 'Trackpoint':\n",
    "            lat = int(data[1][1:]) + float(data[2])/60\n",
    "            latLEG.append(lat)\n",
    "            lon = int(data[3][1:]) + float(data[4])/60\n",
    "            longLEG.append(lon)\n",
    "            if data[1] == 'MERIADOC':\n",
    "                break\n",
    "        elif data[0] == 'Trackpoint':\n",
    "            lat = int(data[1][1:]) + float(data[2])/60\n",
    "            latM.append(lat)\n",
    "            lon = int(data[3][1:]) + float(data[4])/60\n",
    "            longM.append(lon)\n",
    "            if data[1] == 'SAMWISE':\n",
    "                break\n",
    "        elif data[0] == 'Trackpoint':\n",
    "            lat = int(data[1][1:]) + float(data[2])/60\n",
    "            latSAM.append(lat)\n",
    "            lon = int(data[3][1:]) + float(data[4])/60\n",
    "            longSAM.append(lon)\n",
    "            if data[1] == 'STRIDER':\n",
    "                break\n",
    "        elif data[0] == 'Trackpoint':\n",
    "            lat = int(dataLeg[1][1:]) + float(data[2])/60\n",
    "            latSTR.append(lat)\n",
    "            lon = int(dataLeg[3][1:]) + float(data[4])/60\n",
    "            longSTR.append(lon)"
   ]
  },
  {
   "cell_type": "code",
   "execution_count": 78,
   "metadata": {
    "collapsed": false
   },
   "outputs": [
    {
     "name": "stdout",
     "output_type": "stream",
     "text": [
      "True\n"
     ]
    }
   ],
   "source": [
    "if latAL == latLEG: # If script worked then latAL and latLEG (for example) should not be equal; diff data sets\n",
    "    print('True')\n",
    "else:\n",
    "    print('False')"
   ]
  },
  {
   "cell_type": "code",
   "execution_count": 75,
   "metadata": {
    "collapsed": false
   },
   "outputs": [],
   "source": [
    "latlongspeed1 = {'latitude':latAL, 'longitude':longAL, 'speed':spAL}\n",
    "latlongspeed2 = {'latitude':latLEG, 'longitude':longLEG}\n",
    "latlongspeed3 = {'latitude':latM, 'longitude':longM}\n",
    "latlongspeed4 = {'latitude':latSAM, 'longitude':longSAM}\n",
    "latlongspeed5 = {'latitude':latSTR, 'longitude':longSTR}"
   ]
  },
  {
   "cell_type": "code",
   "execution_count": 72,
   "metadata": {
    "collapsed": false
   },
   "outputs": [],
   "source": [
    "gps = {'ACTIVE_LOG':latlongspeed1, 'LEGOLAS':latlongspeed2, 'MERIADOC':latlongspeed3, 'SAMWISE':latlongspeed4, 'STRIDER':latlongspeed5,}"
   ]
  },
  {
   "cell_type": "code",
   "execution_count": 73,
   "metadata": {
    "collapsed": false
   },
   "outputs": [
    {
     "data": {
      "text/plain": [
       "[70.75688333333333,\n",
       " 70.75691666666667,\n",
       " 70.7568,\n",
       " 70.75666666666666,\n",
       " 70.75655,\n",
       " 70.75631666666666,\n",
       " 70.75616666666667,\n",
       " 70.75603333333333,\n",
       " 70.75588333333333,\n",
       " 70.75568333333334,\n",
       " 70.7555,\n",
       " 70.7554,\n",
       " 70.75543333333333,\n",
       " 70.75565,\n",
       " 70.75601666666667,\n",
       " 70.75635,\n",
       " 70.75666666666666,\n",
       " 70.75686666666667,\n",
       " 70.757,\n",
       " 70.75716666666666,\n",
       " 70.75733333333334,\n",
       " 70.75745,\n",
       " 70.75758333333333,\n",
       " 70.75775,\n",
       " 70.75793333333333,\n",
       " 70.75815,\n",
       " 70.75836666666666,\n",
       " 70.75866666666667,\n",
       " 70.75895,\n",
       " 70.7592,\n",
       " 70.75948333333334,\n",
       " 70.75976666666666,\n",
       " 70.76001666666667,\n",
       " 70.76028333333333,\n",
       " 70.76053333333333,\n",
       " 70.76076666666667,\n",
       " 70.761,\n",
       " 70.76125,\n",
       " 70.7615,\n",
       " 70.76178333333333,\n",
       " 70.76203333333333,\n",
       " 70.76223333333333,\n",
       " 70.76245,\n",
       " 70.7627,\n",
       " 70.763,\n",
       " 70.76326666666667,\n",
       " 70.76351666666666,\n",
       " 70.7638,\n",
       " 70.76408333333333,\n",
       " 70.76435,\n",
       " 70.76461666666667,\n",
       " 70.76486666666666,\n",
       " 70.76515,\n",
       " 70.76543333333333,\n",
       " 70.76575,\n",
       " 70.76603333333334,\n",
       " 70.76628333333333,\n",
       " 70.76655,\n",
       " 70.76686666666667,\n",
       " 70.76718333333334,\n",
       " 70.76753333333333,\n",
       " 70.76783333333333,\n",
       " 70.76813333333334,\n",
       " 70.76848333333334,\n",
       " 70.7688,\n",
       " 70.76911666666666,\n",
       " 70.7694,\n",
       " 70.76968333333333,\n",
       " 70.77001666666666,\n",
       " 70.77038333333333,\n",
       " 70.77075,\n",
       " 70.77106666666667,\n",
       " 70.7714,\n",
       " 70.77165,\n",
       " 70.77188333333334,\n",
       " 70.77215,\n",
       " 70.77241666666667,\n",
       " 70.77276666666667,\n",
       " 70.77311666666667,\n",
       " 70.77343333333333,\n",
       " 70.77373333333334,\n",
       " 70.77401666666667,\n",
       " 70.77435,\n",
       " 70.77471666666666,\n",
       " 70.77506666666666,\n",
       " 70.77536666666667,\n",
       " 70.77558333333333,\n",
       " 70.77583333333334,\n",
       " 70.77611666666667,\n",
       " 70.7764,\n",
       " 70.77665,\n",
       " 70.77688333333333,\n",
       " 70.7771,\n",
       " 70.77733333333333,\n",
       " 70.77755,\n",
       " 70.77776666666666,\n",
       " 70.77796666666667,\n",
       " 70.77813333333333,\n",
       " 70.7783,\n",
       " 70.77851666666666,\n",
       " 70.77878333333334,\n",
       " 70.77905,\n",
       " 70.77938333333333,\n",
       " 70.77971666666667,\n",
       " 70.78006666666667,\n",
       " 70.78043333333333,\n",
       " 70.78076666666666,\n",
       " 70.78111666666666,\n",
       " 70.78143333333334,\n",
       " 70.78178333333334,\n",
       " 70.78215,\n",
       " 70.78251666666667,\n",
       " 70.78286666666666,\n",
       " 70.78321666666666,\n",
       " 70.78358333333334,\n",
       " 70.78393333333334,\n",
       " 70.78431666666667,\n",
       " 70.78468333333333,\n",
       " 70.785,\n",
       " 70.78533333333333,\n",
       " 70.78568333333334,\n",
       " 70.786,\n",
       " 70.78635,\n",
       " 70.7867,\n",
       " 70.78701666666667,\n",
       " 70.78738333333334,\n",
       " 70.78775,\n",
       " 70.78811666666667,\n",
       " 70.78845,\n",
       " 70.78881666666666,\n",
       " 70.78916666666667,\n",
       " 70.7895,\n",
       " 70.78986666666667,\n",
       " 70.79023333333333,\n",
       " 70.79058333333333,\n",
       " 70.7909,\n",
       " 70.79113333333333,\n",
       " 70.79135,\n",
       " 70.79143333333333,\n",
       " 70.79143333333333,\n",
       " 70.79145,\n",
       " 70.79165,\n",
       " 70.79186666666666,\n",
       " 70.79215,\n",
       " 70.79241666666667,\n",
       " 70.79256666666667,\n",
       " 70.79261666666666,\n",
       " 70.79271666666666,\n",
       " 70.79286666666667,\n",
       " 70.79298333333334,\n",
       " 70.79291666666667,\n",
       " 70.79283333333333,\n",
       " 70.79276666666667,\n",
       " 70.7927,\n",
       " 70.7926,\n",
       " 70.79248333333334,\n",
       " 70.79238333333333,\n",
       " 70.79225,\n",
       " 70.79211666666667,\n",
       " 70.792,\n",
       " 70.79185,\n",
       " 70.79171666666667,\n",
       " 70.79158333333334,\n",
       " 70.79145,\n",
       " 70.79133333333333,\n",
       " 70.7912,\n",
       " 70.7911,\n",
       " 70.79098333333333,\n",
       " 70.79085,\n",
       " 70.79075,\n",
       " 70.79061666666666,\n",
       " 70.79051666666666,\n",
       " 70.79038333333334,\n",
       " 70.79028333333333,\n",
       " 70.79015,\n",
       " 70.79003333333333,\n",
       " 70.78993333333334,\n",
       " 70.78985,\n",
       " 70.78971666666666,\n",
       " 70.78961666666666,\n",
       " 70.7895,\n",
       " 70.7894,\n",
       " 70.78926666666666,\n",
       " 70.78916666666667,\n",
       " 70.78905,\n",
       " 70.78895,\n",
       " 70.78883333333333,\n",
       " 70.78873333333334,\n",
       " 70.78861666666667,\n",
       " 70.78851666666667,\n",
       " 70.78841666666666,\n",
       " 70.78828333333334,\n",
       " 70.78816666666667,\n",
       " 70.78805,\n",
       " 70.78793333333333,\n",
       " 70.78783333333334,\n",
       " 70.78771666666667,\n",
       " 70.78751666666666,\n",
       " 70.7874,\n",
       " 70.78755,\n",
       " 70.78786666666667,\n",
       " 70.78823333333334,\n",
       " 70.78861666666667,\n",
       " 70.78901666666667,\n",
       " 70.7894,\n",
       " 70.78978333333333,\n",
       " 70.79018333333333,\n",
       " 70.79058333333333,\n",
       " 70.79095,\n",
       " 70.79128333333334,\n",
       " 70.79145,\n",
       " 70.79148333333333,\n",
       " 70.79141666666666,\n",
       " 70.7913,\n",
       " 70.79118333333334,\n",
       " 70.79105,\n",
       " 70.79095,\n",
       " 70.79081666666667,\n",
       " 70.79068333333333,\n",
       " 70.79055,\n",
       " 70.79043333333334,\n",
       " 70.79028333333333,\n",
       " 70.79015,\n",
       " 70.79001666666667,\n",
       " 70.78986666666667,\n",
       " 70.78976666666667,\n",
       " 70.78961666666666,\n",
       " 70.78948333333334,\n",
       " 70.78935,\n",
       " 70.7892,\n",
       " 70.78906666666667,\n",
       " 70.78891666666667,\n",
       " 70.7888,\n",
       " 70.78866666666667,\n",
       " 70.78853333333333,\n",
       " 70.78843333333333,\n",
       " 70.78828333333334,\n",
       " 70.78816666666667,\n",
       " 70.78805,\n",
       " 70.78791666666666,\n",
       " 70.78778333333334,\n",
       " 70.78766666666667,\n",
       " 70.78753333333333,\n",
       " 70.7874,\n",
       " 70.78726666666667,\n",
       " 70.78711666666666,\n",
       " 70.787,\n",
       " 70.78686666666667,\n",
       " 70.78675,\n",
       " 70.78665,\n",
       " 70.78651666666667,\n",
       " 70.78641666666667,\n",
       " 70.78628333333333,\n",
       " 70.78615,\n",
       " 70.78605,\n",
       " 70.78591666666667,\n",
       " 70.7858,\n",
       " 70.78566666666667,\n",
       " 70.78555,\n",
       " 70.78543333333333,\n",
       " 70.7853,\n",
       " 70.78516666666667,\n",
       " 70.78503333333333,\n",
       " 70.78493333333333,\n",
       " 70.78478333333334,\n",
       " 70.78468333333333,\n",
       " 70.78455,\n",
       " 70.78441666666667,\n",
       " 70.78428333333333,\n",
       " 70.78413333333333,\n",
       " 70.78401666666667,\n",
       " 70.7839,\n",
       " 70.78376666666666,\n",
       " 70.78365,\n",
       " 70.78351666666667,\n",
       " 70.78338333333333,\n",
       " 70.78326666666666,\n",
       " 70.78311666666667,\n",
       " 70.783,\n",
       " 70.78286666666666,\n",
       " 70.78275,\n",
       " 70.78263333333334,\n",
       " 70.78253333333333,\n",
       " 70.78241666666666,\n",
       " 70.78231666666667,\n",
       " 70.78223333333334,\n",
       " 70.78215,\n",
       " 70.78203333333333,\n",
       " 70.78193333333333,\n",
       " 70.78185,\n",
       " 70.78173333333334,\n",
       " 70.78163333333333,\n",
       " 70.78151666666666,\n",
       " 70.78141666666667,\n",
       " 70.7813,\n",
       " 70.7812,\n",
       " 70.7811,\n",
       " 70.78098333333334,\n",
       " 70.7809,\n",
       " 70.7808,\n",
       " 70.78066666666666,\n",
       " 70.78055,\n",
       " 70.78045,\n",
       " 70.78033333333333,\n",
       " 70.78023333333333,\n",
       " 70.78013333333334,\n",
       " 70.78001666666667,\n",
       " 70.77991666666667,\n",
       " 70.77983333333333,\n",
       " 70.77971666666667,\n",
       " 70.77963333333334,\n",
       " 70.77953333333333,\n",
       " 70.77941666666666,\n",
       " 70.77931666666667,\n",
       " 70.77923333333334,\n",
       " 70.77911666666667,\n",
       " 70.77903333333333,\n",
       " 70.77893333333333,\n",
       " 70.77883333333334,\n",
       " 70.77873333333334,\n",
       " 70.77865,\n",
       " 70.77853333333333,\n",
       " 70.77843333333334,\n",
       " 70.77831666666667,\n",
       " 70.77821666666667,\n",
       " 70.77811666666666,\n",
       " 70.77801666666667,\n",
       " 70.77791666666667,\n",
       " 70.77781666666667,\n",
       " 70.7777,\n",
       " 70.7776,\n",
       " 70.77751666666667,\n",
       " 70.7774,\n",
       " 70.77731666666666,\n",
       " 70.77721666666666,\n",
       " 70.77711666666667,\n",
       " 70.77701666666667,\n",
       " 70.77693333333333,\n",
       " 70.77681666666666,\n",
       " 70.77671666666667,\n",
       " 70.77663333333334,\n",
       " 70.77651666666667,\n",
       " 70.77643333333333,\n",
       " 70.77633333333333,\n",
       " 70.77625,\n",
       " 70.77613333333333,\n",
       " 70.77605,\n",
       " 70.77595,\n",
       " 70.77583333333334,\n",
       " 70.77573333333333,\n",
       " 70.77565,\n",
       " 70.77555,\n",
       " 70.77546666666667,\n",
       " 70.77538333333334,\n",
       " 70.77528333333333,\n",
       " 70.7752,\n",
       " 70.77508333333333,\n",
       " 70.775,\n",
       " 70.77488333333334,\n",
       " 70.77478333333333,\n",
       " 70.77468333333333,\n",
       " 70.77458333333334,\n",
       " 70.77448333333334,\n",
       " 70.7744,\n",
       " 70.77428333333333,\n",
       " 70.77418333333334,\n",
       " 70.7741,\n",
       " 70.77398333333333,\n",
       " 70.7739,\n",
       " 70.7738,\n",
       " 70.77371666666667,\n",
       " 70.7736,\n",
       " 70.7735,\n",
       " 70.77341666666666,\n",
       " 70.7733,\n",
       " 70.7732,\n",
       " 70.77311666666667,\n",
       " 70.773,\n",
       " 70.77291666666666,\n",
       " 70.77283333333334,\n",
       " 70.77271666666667,\n",
       " 70.77263333333333,\n",
       " 70.77253333333333,\n",
       " 70.77241666666667,\n",
       " 70.77233333333334,\n",
       " 70.77225,\n",
       " 70.77215,\n",
       " 70.77203333333334,\n",
       " 70.77193333333334,\n",
       " 70.77185,\n",
       " 70.77173333333333,\n",
       " 70.77163333333333,\n",
       " 70.77151666666667,\n",
       " 70.77141666666667,\n",
       " 70.77133333333333,\n",
       " 70.77121666666666,\n",
       " 70.77111666666667,\n",
       " 70.771,\n",
       " 70.7709,\n",
       " 70.77081666666666,\n",
       " 70.7707,\n",
       " 70.7706,\n",
       " 70.7705,\n",
       " 70.77038333333333,\n",
       " 70.7703,\n",
       " 70.7702,\n",
       " 70.77008333333333,\n",
       " 70.76998333333333,\n",
       " 70.7699,\n",
       " 70.76978333333334,\n",
       " 70.76968333333333,\n",
       " 70.76958333333333,\n",
       " 70.7695,\n",
       " 70.7694,\n",
       " 70.76931666666667,\n",
       " 70.7692,\n",
       " 70.76911666666666,\n",
       " 70.76901666666667,\n",
       " 70.76893333333334,\n",
       " 70.76883333333333,\n",
       " 70.76875,\n",
       " 70.76865,\n",
       " 70.76856666666667,\n",
       " 70.76845,\n",
       " 70.76836666666667,\n",
       " 70.76828333333333,\n",
       " 70.7682,\n",
       " 70.76811666666667,\n",
       " 70.76801666666667,\n",
       " 70.76791666666666,\n",
       " 70.76783333333333,\n",
       " 70.76775,\n",
       " 70.76763333333334,\n",
       " 70.76755,\n",
       " 70.76745,\n",
       " 70.76736666666666,\n",
       " 70.76726666666667,\n",
       " 70.76716666666667,\n",
       " 70.76708333333333,\n",
       " 70.767,\n",
       " 70.76688333333334,\n",
       " 70.7668,\n",
       " 70.7667,\n",
       " 70.76661666666666,\n",
       " 70.76651666666666,\n",
       " 70.76641666666667,\n",
       " 70.7663,\n",
       " 70.76621666666666,\n",
       " 70.76613333333333,\n",
       " 70.76603333333334,\n",
       " 70.76595,\n",
       " 70.76585,\n",
       " 70.76573333333333,\n",
       " 70.76553333333334,\n",
       " 70.76531666666666,\n",
       " 70.76528333333333,\n",
       " 70.76535,\n",
       " 70.76553333333334,\n",
       " 70.76585,\n",
       " 70.76625,\n",
       " 70.76665,\n",
       " 70.76703333333333,\n",
       " 70.76745,\n",
       " 70.76783333333333,\n",
       " 70.76821666666666,\n",
       " 70.76863333333333,\n",
       " 70.76903333333334,\n",
       " 70.76943333333334,\n",
       " 70.76946666666667,\n",
       " 70.76256666666667,\n",
       " 70.76495,\n",
       " 70.76796666666667,\n",
       " 70.77068333333334,\n",
       " 70.7748,\n",
       " 70.79083333333334,\n",
       " 70.78935,\n",
       " 70.78778333333334,\n",
       " 70.78701666666667,\n",
       " 70.7867,\n",
       " 70.78478333333334,\n",
       " 70.78305,\n",
       " 70.78275,\n",
       " 70.78248333333333,\n",
       " 70.78195,\n",
       " 70.78166666666667,\n",
       " 70.78143333333334,\n",
       " 70.78118333333333,\n",
       " 70.78091666666667,\n",
       " 70.77166666666666,\n",
       " 70.77075,\n",
       " 70.77051666666667,\n",
       " 70.77025,\n",
       " 70.75693333333334,\n",
       " 70.75928333333333,\n",
       " 70.76038333333334,\n",
       " 70.78873333333334,\n",
       " 70.78843333333333,\n",
       " 70.7882,\n",
       " 70.78998333333334,\n",
       " 70.7897,\n",
       " 70.78876666666666,\n",
       " 70.7876,\n",
       " 70.78605,\n",
       " 70.78548333333333,\n",
       " 70.7824,\n",
       " 70.78208333333333,\n",
       " 70.78021666666666,\n",
       " 70.77998333333333,\n",
       " 70.77911666666667,\n",
       " 70.77711666666667,\n",
       " 70.77663333333334,\n",
       " 70.77591666666666,\n",
       " 70.77515,\n",
       " 70.77488333333334,\n",
       " 70.77463333333333,\n",
       " 70.7744,\n",
       " 70.7739,\n",
       " 70.77366666666667,\n",
       " 70.77343333333333,\n",
       " 70.77231666666667,\n",
       " 70.77206666666666,\n",
       " 70.77031666666667,\n",
       " 70.77008333333333,\n",
       " 70.7692,\n",
       " 70.76898333333334,\n",
       " 70.76708333333333,\n",
       " 70.76886666666667,\n",
       " 70.77156666666667,\n",
       " 70.75545,\n",
       " 70.7567,\n",
       " 70.75863333333334,\n",
       " 70.76693333333333,\n",
       " 70.76963333333333,\n",
       " 70.77263333333333,\n",
       " 70.77543333333334,\n",
       " 70.78413333333333,\n",
       " 70.79166666666667,\n",
       " 70.78971666666666,\n",
       " 70.7895,\n",
       " 70.78888333333333,\n",
       " 70.78856666666667,\n",
       " 70.78823333333334,\n",
       " 70.78796666666666,\n",
       " 70.78733333333334,\n",
       " 70.78648333333334,\n",
       " 70.78618333333333,\n",
       " 70.78438333333334,\n",
       " 70.7841,\n",
       " 70.78356666666667,\n",
       " 70.78216666666667,\n",
       " 70.78165,\n",
       " 70.7814,\n",
       " 70.78113333333333,\n",
       " 70.7809,\n",
       " 70.78066666666666,\n",
       " 70.7804,\n",
       " 70.78016666666667,\n",
       " 70.77991666666667,\n",
       " 70.77963333333334,\n",
       " 70.77911666666667,\n",
       " 70.77888333333334,\n",
       " 70.77865,\n",
       " 70.7782,\n",
       " 70.77768333333333,\n",
       " 70.77736666666667,\n",
       " 70.77711666666667,\n",
       " 70.77686666666666,\n",
       " 70.77606666666667,\n",
       " 70.77581666666667,\n",
       " 70.77486666666667,\n",
       " 70.77433333333333,\n",
       " 70.7729,\n",
       " 70.77261666666666,\n",
       " 70.77216666666666,\n",
       " 70.77191666666667,\n",
       " 70.77166666666666,\n",
       " 70.77121666666666,\n",
       " 70.77066666666667,\n",
       " 70.7704,\n",
       " 70.77015,\n",
       " 70.76991666666666,\n",
       " 70.7695,\n",
       " 70.76903333333334,\n",
       " 70.7688,\n",
       " 70.76856666666667,\n",
       " 70.76833333333333,\n",
       " 70.76801666666667,\n",
       " 70.7676]"
      ]
     },
     "execution_count": 73,
     "metadata": {},
     "output_type": "execute_result"
    }
   ],
   "source": [
    "gps['LEGOLAS']['longitude']"
   ]
  },
  {
   "cell_type": "markdown",
   "metadata": {},
   "source": [
    "## 11. Constructing terms in Taylor series to approximate a function"
   ]
  },
  {
   "cell_type": "code",
   "execution_count": 16,
   "metadata": {
    "collapsed": false
   },
   "outputs": [
    {
     "data": {
      "text/plain": [
       "0.4794255386164159"
      ]
     },
     "execution_count": 16,
     "metadata": {},
     "output_type": "execute_result"
    }
   ],
   "source": [
    "# Define the sine function and then define the factorial within the Taylor series\n",
    "def sin(x,n):\n",
    "    sine = 0 # Start sine at zero\n",
    "    for num in range(n): # Split the numerator into two parts\n",
    "        sign = (-1)**num\n",
    "        sine = sine + ((x**(2.0*num+1))/factorial(2*num+1))*sign\n",
    "    return sine\n",
    "\n",
    "def factorial(n):\n",
    "    if n == 0:\n",
    "        return 1\n",
    "    else:\n",
    "        return n*factorial(n-1)\n",
    "    \n",
    "sin(0.5,5)"
   ]
  }
 ],
 "metadata": {
  "kernelspec": {
   "display_name": "Python 3",
   "language": "python",
   "name": "python3"
  },
  "language_info": {
   "codemirror_mode": {
    "name": "ipython",
    "version": 3
   },
   "file_extension": ".py",
   "mimetype": "text/x-python",
   "name": "python",
   "nbconvert_exporter": "python",
   "pygments_lexer": "ipython3",
   "version": "3.5.1"
  }
 },
 "nbformat": 4,
 "nbformat_minor": 0
}
