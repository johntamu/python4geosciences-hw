{
 "cells": [
  {
   "cell_type": "code",
   "execution_count": 19,
   "metadata": {
    "collapsed": false
   },
   "outputs": [
    {
     "data": {
      "text/plain": [
       "{'Department': 'Geography',\n",
       " 'Hometown': 'Santa Cruz, California',\n",
       " 'Name': 'John Schiff',\n",
       " 'Purpose': 'My goal is proficiency with Python for data analysis in my paleoceanographic research',\n",
       " 'Status': 'PhD',\n",
       " 'Years at TAMU': 'Almost 2'}"
      ]
     },
     "execution_count": 19,
     "metadata": {},
     "output_type": "execute_result"
    }
   ],
   "source": [
    "d = {} # Empty dictionary\n",
    "# Fill in the entries one by one\n",
    "# Different from d = {'a':3} method from materials\n",
    "# This method is used to assign new values to an already existing dictionary\n",
    "d[\"Name\"] = 'John Schiff'\n",
    "d[\"Hometown\"] = 'Santa Cruz, California'\n",
    "d[\"Department\"] = 'Geography'\n",
    "d[\"Status\"] = 'PhD'\n",
    "d[\"Years at TAMU\"] = 'Almost 2'\n",
    "d[\"Purpose\"] = \"My goal is proficiency with Python for data analysis in my paleoceanographic research\"\n",
    "d"
   ]
  },
  {
   "cell_type": "markdown",
   "metadata": {},
   "source": [
    "## 2 Vowel Test"
   ]
  },
  {
   "cell_type": "code",
   "execution_count": 103,
   "metadata": {
    "collapsed": false
   },
   "outputs": [],
   "source": [
    "def isVowel(charac): # \"charac\" refers to any given character, i.e. a string of length 1\n",
    "    \"\"\"Check if an inputed character is a vowel\"\"\"\n",
    "    return charac.lower() in 'aeiou'\n",
    "    # Basically, with this function we ask if \"charac\" is the same as any of the defined vowels above\n",
    "    # the lower() takes into account upper and lower cases of characters by returning all characters as lower case"
   ]
  },
  {
   "cell_type": "code",
   "execution_count": 104,
   "metadata": {
    "collapsed": false
   },
   "outputs": [
    {
     "data": {
      "text/plain": [
       "True"
      ]
     },
     "execution_count": 104,
     "metadata": {},
     "output_type": "execute_result"
    }
   ],
   "source": [
    "isVowel(\"a\")"
   ]
  },
  {
   "cell_type": "code",
   "execution_count": 102,
   "metadata": {
    "collapsed": false
   },
   "outputs": [
    {
     "data": {
      "text/plain": [
       "True"
      ]
     },
     "execution_count": 102,
     "metadata": {},
     "output_type": "execute_result"
    }
   ],
   "source": [
    "isVowel(\"A\")"
   ]
  },
  {
   "cell_type": "markdown",
   "metadata": {},
   "source": [
    "## 3 Compute length of a given list OR string"
   ]
  },
  {
   "cell_type": "code",
   "execution_count": 47,
   "metadata": {
    "collapsed": false
   },
   "outputs": [
    {
     "data": {
      "text/plain": [
       "2"
      ]
     },
     "execution_count": 47,
     "metadata": {},
     "output_type": "execute_result"
    }
   ],
   "source": [
    "def length(input):\n",
    "    count = 0 # Count starts from zero\n",
    "    for x in input:\n",
    "        count += 1\n",
    "    return (count) # Returns the number of characters in the word or number of words in the list\n",
    "\n",
    "length([\"word\",\"word2\"])"
   ]
  },
  {
   "cell_type": "code",
   "execution_count": 48,
   "metadata": {
    "collapsed": false
   },
   "outputs": [
    {
     "data": {
      "text/plain": [
       "5"
      ]
     },
     "execution_count": 48,
     "metadata": {},
     "output_type": "execute_result"
    }
   ],
   "source": [
    "length(\"word1\")"
   ]
  },
  {
   "cell_type": "markdown",
   "metadata": {},
   "source": [
    "## 4 Reverse a string"
   ]
  },
  {
   "cell_type": "code",
   "execution_count": 6,
   "metadata": {
    "collapsed": false
   },
   "outputs": [
    {
     "data": {
      "text/plain": [
       "'dlrow olleh'"
      ]
     },
     "execution_count": 6,
     "metadata": {},
     "output_type": "execute_result"
    }
   ],
   "source": [
    "def reverse(input):\n",
    "    \"\"\"Reverses a string\"\"\"\n",
    "    return input[::-1]\n",
    "\n",
    "reverse('hello world')"
   ]
  },
  {
   "cell_type": "markdown",
   "metadata": {},
   "source": [
    "## 5 Check for palindromes\n"
   ]
  },
  {
   "cell_type": "code",
   "execution_count": 7,
   "metadata": {
    "collapsed": false
   },
   "outputs": [
    {
     "data": {
      "text/plain": [
       "False"
      ]
     },
     "execution_count": 7,
     "metadata": {},
     "output_type": "execute_result"
    }
   ],
   "source": [
    "def check(input):\n",
    "    \"\"\"Checks if the input is a palindrome\"\"\"\n",
    "    joined = ''.join(input)\n",
    "    lowered_text = joined.lower()\n",
    "    \n",
    "    if lowered_text == lowered_text[::-1]:\n",
    "        return True\n",
    "    \n",
    "    else:\n",
    "        return False\n",
    "    \n",
    "check(\"test\")"
   ]
  },
  {
   "cell_type": "code",
   "execution_count": 8,
   "metadata": {
    "collapsed": false
   },
   "outputs": [
    {
     "data": {
      "text/plain": [
       "True"
      ]
     },
     "execution_count": 8,
     "metadata": {},
     "output_type": "execute_result"
    }
   ],
   "source": [
    "check(\"Able was i ere i saw Elba\")"
   ]
  },
  {
   "cell_type": "markdown",
   "metadata": {},
   "source": [
    "## 6 Number lines in a text file"
   ]
  },
  {
   "cell_type": "code",
   "execution_count": 80,
   "metadata": {
    "collapsed": false
   },
   "outputs": [
    {
     "name": "stdout",
     "output_type": "stream",
     "text": [
      "1 This is the first line\n",
      "\n",
      "2 This is the second line\n",
      "\n",
      "3 This is the third line\n"
     ]
    }
   ],
   "source": [
    "file = open('hw02.txt')\n",
    "r = file.readlines()\n",
    "count = 0\n",
    "for line in r:\n",
    "    if not line.strip():\n",
    "        continue\n",
    "    else:\n",
    "        count += 1\n",
    "        print(count, line)\n",
    "file.close()"
   ]
  },
  {
   "cell_type": "markdown",
   "metadata": {},
   "source": [
    "## 7. Convert list of words into list of integers of lengths of words"
   ]
  },
  {
   "cell_type": "code",
   "execution_count": 43,
   "metadata": {
    "collapsed": false
   },
   "outputs": [
    {
     "name": "stdout",
     "output_type": "stream",
     "text": [
      "3\n",
      "3\n",
      "2\n",
      "4\n"
     ]
    }
   ],
   "source": [
    "def method1(input):\n",
    "    \"\"\"Return length of words in a list using a for loop\"\"\"\n",
    "    wordlist = input.split()\n",
    "    for word in wordlist:\n",
    "        r = length(word)\n",
    "        print(r)\n",
    "    \n",
    "method1('dog cat ox bird')\n",
    "# Results in list of four words\n",
    "# Now it only counts the first word instead of all of them\n",
    "# Make it return a list of integers"
   ]
  },
  {
   "cell_type": "code",
   "execution_count": 40,
   "metadata": {
    "collapsed": false
   },
   "outputs": [
    {
     "name": "stdout",
     "output_type": "stream",
     "text": [
      "3\n",
      "3\n",
      "2\n",
      "4\n"
     ]
    }
   ],
   "source": [
    "def method2(input):\n",
    "    \"\"\"Return length of words in a list using the map() function\"\"\"\n",
    "    wordlist = input.split()\n",
    "    for word in map(length, wordlist):\n",
    "        print(word)\n",
    "\n",
    "method2('cat dog ox bird')"
   ]
  },
  {
   "cell_type": "code",
   "execution_count": 46,
   "metadata": {
    "collapsed": false
   },
   "outputs": [
    {
     "name": "stdout",
     "output_type": "stream",
     "text": [
      "[3, 3, 2, 4]\n"
     ]
    }
   ],
   "source": [
    "def method3(input):\n",
    "    \"\"\"Return length of words in a given list using list comprehension\"\"\"\n",
    "    wordlist = input.split()\n",
    "    r = [length(word) for word in wordlist]\n",
    "    print(r)\n",
    "    \n",
    "method3('dog cat ox bird')"
   ]
  },
  {
   "cell_type": "markdown",
   "metadata": {},
   "source": [
    "## 8 Encode or Decode Using ROT13"
   ]
  },
  {
   "cell_type": "code",
   "execution_count": 10,
   "metadata": {
    "collapsed": false
   },
   "outputs": [
    {
     "data": {
      "text/plain": [
       "'Caesar cipher? I much prefer Caesar salad!'"
      ]
     },
     "execution_count": 10,
     "metadata": {},
     "output_type": "execute_result"
    }
   ],
   "source": [
    "key = {'a':'n', 'b':'o', 'c':'p', 'd':'q', 'e':'r', 'f':'s', 'g':'t', 'h':'u', \n",
    "       'i':'v', 'j':'w', 'k':'x', 'l':'y', 'm':'z', 'n':'a', 'o':'b', 'p':'c', \n",
    "       'q':'d', 'r':'e', 's':'f', 't':'g', 'u':'h', 'v':'i', 'w':'j', 'x':'k',\n",
    "       'y':'l', 'z':'m', 'A':'N', 'B':'O', 'C':'P', 'D':'Q', 'E':'R', 'F':'S', \n",
    "       'G':'T', 'H':'U', 'I':'V', 'J':'W', 'K':'X', 'L':'Y', 'M':'Z', 'N':'A', \n",
    "       'O':'B', 'P':'C', 'Q':'D', 'R':'E', 'S':'F', 'T':'G', 'U':'H', 'V':'I', \n",
    "       'W':'J', 'X':'K', 'Y':'L', 'Z':'M'}\n",
    "\n",
    "def cipher(text_to_encode):\n",
    "    cipher = [] # Text to encode is now a list for the function\n",
    "    for character in text_to_encode:\n",
    "\n",
    "        if character.islower():\n",
    "            cipher.append(key.get(character))\n",
    "\n",
    "        elif character.isupper():\n",
    "            character = character.lower()\n",
    "            result = key.get(character)\n",
    "            cipher.append(result.capitalize())\n",
    "\n",
    "        elif character not in key: # This is to account for spaces and special characters like '?' or '!'\n",
    "            cipher.append(character)\n",
    "        \n",
    "    return ''.join(cipher)\n",
    "\n",
    "cipher('Pnrfne pvcure? V zhpu cersre Pnrfne fnynq!')"
   ]
  },
  {
   "cell_type": "markdown",
   "metadata": {},
   "source": [
    "## 9 Fix the Code"
   ]
  },
  {
   "cell_type": "code",
   "execution_count": 45,
   "metadata": {
    "collapsed": false
   },
   "outputs": [
    {
     "name": "stdout",
     "output_type": "stream",
     "text": [
      "3 bottles of beer on the wall, 3 bottles of beer.\n",
      "Take one down, pass it around, 2 bottles of beer on the wall.\n",
      "\n",
      "2 bottles of beer on the wall, 2 bottles of beer.\n",
      "Take one down, pass it around, 1 bottles of beer on the wall.\n",
      "\n",
      "1 bottle of beer on the wall, 1 bottle of beer.\n",
      "Take one down, pass it around, 0 bottles of beer on the wall.\n",
      "\n"
     ]
    }
   ],
   "source": [
    "def words(num):\n",
    "    \"\"\"Returns words with proper number of beer bottles filled in.\"\"\"\n",
    "    \n",
    "    if num != 1: # Changed indentation to four, added colon\n",
    "        print(str(num) + ' bottles of beer on the wall, ' + str(num) + ' bottles of beer.\\n' # Deleted +\n",
    "        'Take one down, pass it around, ' + str(num-1) + ' bottles of beer on the wall.') # Deleted \\n; removed indent\n",
    "        return '' # Added return '' to prevent \"None\" from appearing\n",
    "    \n",
    "    elif num == 1: # Requires '==' rather than '='\n",
    "        print(str(num) + ' bottle of beer on the wall, ' + str(num) + ' bottle of beer.\\n'\n",
    "        'Take one down, pass it around, ' + str(num-1) + ' bottles of beer on the wall.') # Deleted \\n; removed indent\n",
    "        return ''\n",
    "\n",
    "numbottles = 3\n",
    "\n",
    "for i in range(numbottles, 0, -1): # Not a list, removed brackets []; added colon\n",
    "    # Also changed step from '1' to '-1'; format: range(start, stop, step)\n",
    "    print(words(i)) # Changed indentation"
   ]
  },
  {
   "cell_type": "markdown",
   "metadata": {
    "collapsed": true
   },
   "source": [
    "## 10 Reading in and parsing a file"
   ]
  },
  {
   "cell_type": "code",
   "execution_count": 136,
   "metadata": {
    "collapsed": true
   },
   "outputs": [],
   "source": [
    "f = open('GPS.dat') # file was copy-pasted into homework file for easy opening"
   ]
  },
  {
   "cell_type": "code",
   "execution_count": 137,
   "metadata": {
    "collapsed": false
   },
   "outputs": [],
   "source": [
    "f.seek(0)\n",
    "# Create a dictionary for 'Active Log' and put assign three lists to that dictionary\n",
    "# lat = latitude, long = longitude, sp = speed\n",
    "latAL = []\n",
    "longAL = []\n",
    "spAL = []\n",
    "\n",
    "for line in f.readlines():\n",
    "    data = line.split()\n",
    "    if not data:\n",
    "        continue\n",
    "    if data[0] == 'Trackpoint':\n",
    "        lat = int(data[1][1:]) + float(data[2])/60\n",
    "        latAL.append(lat) # append that value produced to the sequence where it's being stored\n",
    "        lon = int(data[3][1:]) + float(data[4])/60\n",
    "        longAL.append(lon)\n",
    "        sp = data[6]\n",
    "        # defining what sp is equal to in the data file and then will append that data into the spAL list\n",
    "        spAL.append(sp)\n",
    "    elif data[1] == 'LEGOLAS':\n",
    "        break"
   ]
  },
  {
   "cell_type": "code",
   "execution_count": 142,
   "metadata": {
    "collapsed": false
   },
   "outputs": [
    {
     "ename": "SyntaxError",
     "evalue": "invalid syntax (<ipython-input-142-314bd52c034d>, line 12)",
     "output_type": "error",
     "traceback": [
      "\u001b[0;36m  File \u001b[0;32m\"<ipython-input-142-314bd52c034d>\"\u001b[0;36m, line \u001b[0;32m12\u001b[0m\n\u001b[0;31m    elif dataLeg[0] == 'Trackpoint':\u001b[0m\n\u001b[0m       ^\u001b[0m\n\u001b[0;31mSyntaxError\u001b[0m\u001b[0;31m:\u001b[0m invalid syntax\n"
     ]
    }
   ],
   "source": [
    "f.seek(0)\n",
    "# Create a dictionary for 'Active Log' and put assign three lists to that dictionary\n",
    "# lat = latitude, long = longitude, sp = speed\n",
    "latLEG = []\n",
    "longLEG = []\n",
    "\n",
    "for line in f.readlines():\n",
    "    dataLeg = line.split()\n",
    "    if not dataLeg: # If there are no strings to split\n",
    "        continue\n",
    "    if dataLeg[1] == 'LEGOLAS':\n",
    "        elif dataLeg[0] == 'Trackpoint':\n",
    "            lat = int(dataLeg[1][1:]) + float(data[2])/60\n",
    "            latLEG.append(lat) # append that value produced to the sequence where it's being stored\n",
    "            lon = int(dataLeg[3][1:]) + float(data[4])/60\n",
    "            longLEG.append(lon)\n",
    "        elif dataLeg[1] == 'MERIADOC':\n",
    "            break        "
   ]
  },
  {
   "cell_type": "code",
   "execution_count": 134,
   "metadata": {
    "collapsed": true
   },
   "outputs": [],
   "source": [
    "# lat = latitude, long = longitude, sp = speed\n",
    "latM = []\n",
    "longM = []\n",
    "\n",
    "for line in f.readlines():\n",
    "    dataM = line.split()\n",
    "    if not dataM: # If there are no strings to split\n",
    "        continue\n",
    "    if dataM[0] == 'Trackpoint':\n",
    "        lat = int(dataLeg[1][1:]) + float(data[2])/60\n",
    "        latM.append(lat) # append that value produced to the sequence where it's being stored\n",
    "        lon = int(dataLeg[3][1:]) + float(data[4])/60\n",
    "        longM.append(lon)\n",
    "    elif dataM[1] == 'SAM':\n",
    "        break "
   ]
  },
  {
   "cell_type": "code",
   "execution_count": 135,
   "metadata": {
    "collapsed": true
   },
   "outputs": [],
   "source": [
    "# lat = latitude, long = longitude, sp = speed\n",
    "latSAM = []\n",
    "longSAM = []\n",
    "\n",
    "for line in f.readlines():\n",
    "    dataSam = line.split()\n",
    "    if not dataSam: # If there are no strings to split\n",
    "        continue\n",
    "    if dataSam[0] == 'Trackpoint':\n",
    "        lat = int(dataLeg[1][1:]) + float(data[2])/60\n",
    "        latSAM.append(lat) # append that value produced to the sequence where it's being stored\n",
    "        lon = int(dataLeg[3][1:]) + float(data[4])/60\n",
    "        longSAM.append(lon)\n",
    "    elif dataSam[1] == 'STRIDER':\n",
    "        break "
   ]
  },
  {
   "cell_type": "code",
   "execution_count": 125,
   "metadata": {
    "collapsed": true
   },
   "outputs": [],
   "source": [
    "# lat = latitude, long = longitude, sp = speed\n",
    "latSTR = []\n",
    "longSTR = []\n",
    "\n",
    "for line in f.readlines():\n",
    "    dataStr = line.split()\n",
    "    if not dataStr: # If there are no strings to split\n",
    "        continue\n",
    "    if dataStr[0] == 'Trackpoint':\n",
    "        lat = int(dataLeg[1][1:]) + float(data[2])/60\n",
    "        latSTR.append(lat) # append that value produced to the sequence where it's being stored\n",
    "        lon = int(dataLeg[3][1:]) + float(data[4])/60\n",
    "        longSTR.append(lon)"
   ]
  },
  {
   "cell_type": "code",
   "execution_count": 126,
   "metadata": {
    "collapsed": false
   },
   "outputs": [
    {
     "data": {
      "text/plain": [
       "[]"
      ]
     },
     "execution_count": 126,
     "metadata": {},
     "output_type": "execute_result"
    }
   ],
   "source": [
    "latSTR"
   ]
  },
  {
   "cell_type": "code",
   "execution_count": 113,
   "metadata": {
    "collapsed": false
   },
   "outputs": [
    {
     "ename": "NameError",
     "evalue": "name 'key' is not defined",
     "output_type": "error",
     "traceback": [
      "\u001b[0;31m---------------------------------------------------------------------------\u001b[0m",
      "\u001b[0;31mNameError\u001b[0m                                 Traceback (most recent call last)",
      "\u001b[0;32m<ipython-input-113-b094cf78e747>\u001b[0m in \u001b[0;36m<module>\u001b[0;34m()\u001b[0m\n\u001b[0;32m----> 1\u001b[0;31m \u001b[0mgps\u001b[0m \u001b[0;34m=\u001b[0m \u001b[0;34m{\u001b[0m\u001b[0mkey\u001b[0m\u001b[0;34m:\u001b[0m\u001b[0mvalue\u001b[0m\u001b[0;34m}\u001b[0m\u001b[0;34m\u001b[0m\u001b[0m\n\u001b[0m",
      "\u001b[0;31mNameError\u001b[0m: name 'key' is not defined"
     ]
    }
   ],
   "source": [
    "gps = {key:value}"
   ]
  },
  {
   "cell_type": "markdown",
   "metadata": {},
   "source": [
    "## 11. Constructing terms in Taylor series to approximate a function"
   ]
  },
  {
   "cell_type": "code",
   "execution_count": 16,
   "metadata": {
    "collapsed": false
   },
   "outputs": [
    {
     "data": {
      "text/plain": [
       "0.4794255386164159"
      ]
     },
     "execution_count": 16,
     "metadata": {},
     "output_type": "execute_result"
    }
   ],
   "source": [
    "# Define the sine function and then define the factorial within the Taylor series\n",
    "def sin(x,n):\n",
    "    sine = 0 # Start sine at zero\n",
    "    for num in range(n): # Split the numerator into two parts\n",
    "        sign = (-1)**num\n",
    "        sine = sine + ((x**(2.0*num+1))/factorial(2*num+1))*sign\n",
    "    return sine\n",
    "\n",
    "def factorial(n):\n",
    "    if n == 0:\n",
    "        return 1\n",
    "    else:\n",
    "        return n*factorial(n-1)\n",
    "    \n",
    "sin(0.5,5)"
   ]
  }
 ],
 "metadata": {
  "kernelspec": {
   "display_name": "Python 3",
   "language": "python",
   "name": "python3"
  },
  "language_info": {
   "codemirror_mode": {
    "name": "ipython",
    "version": 3
   },
   "file_extension": ".py",
   "mimetype": "text/x-python",
   "name": "python",
   "nbconvert_exporter": "python",
   "pygments_lexer": "ipython3",
   "version": "3.5.1"
  }
 },
 "nbformat": 4,
 "nbformat_minor": 0
}
