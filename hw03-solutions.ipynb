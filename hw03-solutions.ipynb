{
 "cells": [
  {
   "cell_type": "markdown",
   "metadata": {},
   "source": [
    "## John Schiff"
   ]
  },
  {
   "cell_type": "code",
   "execution_count": 13,
   "metadata": {
    "collapsed": true
   },
   "outputs": [],
   "source": [
    "import numpy as np"
   ]
  },
  {
   "cell_type": "code",
   "execution_count": 14,
   "metadata": {
    "collapsed": true
   },
   "outputs": [],
   "source": [
    "import glob"
   ]
  },
  {
   "cell_type": "code",
   "execution_count": 15,
   "metadata": {
    "collapsed": true
   },
   "outputs": [],
   "source": [
    "import math as m"
   ]
  },
  {
   "cell_type": "code",
   "execution_count": 16,
   "metadata": {
    "collapsed": true
   },
   "outputs": [],
   "source": [
    "import scipy.stats"
   ]
  },
  {
   "cell_type": "markdown",
   "metadata": {},
   "source": [
    "## 1."
   ]
  },
  {
   "cell_type": "code",
   "execution_count": 17,
   "metadata": {
    "collapsed": false
   },
   "outputs": [
    {
     "name": "stdout",
     "output_type": "stream",
     "text": [
      "[ 0.  0.  0.  0.  1.  0.  0.  0.  0.  0.]\n"
     ]
    }
   ],
   "source": [
    "x = np.zeros(10)\n",
    "x[4] = 1\n",
    "print(x)"
   ]
  },
  {
   "cell_type": "markdown",
   "metadata": {},
   "source": [
    "## 2."
   ]
  },
  {
   "cell_type": "code",
   "execution_count": 10,
   "metadata": {
    "collapsed": false
   },
   "outputs": [
    {
     "data": {
      "text/plain": [
       "array([10, 11, 12, 13, 14, 15, 16, 17, 18, 19, 20, 21, 22, 23, 24, 25, 26,\n",
       "       27, 28, 29, 30, 31, 32, 33, 34, 35, 36, 37, 38, 39, 40, 41, 42, 43,\n",
       "       44, 45, 46, 47, 48, 49])"
      ]
     },
     "execution_count": 10,
     "metadata": {},
     "output_type": "execute_result"
    }
   ],
   "source": [
    "v = np.arange(10,50,1)\n",
    "v"
   ]
  },
  {
   "cell_type": "markdown",
   "metadata": {},
   "source": [
    "## 3."
   ]
  },
  {
   "cell_type": "code",
   "execution_count": 11,
   "metadata": {
    "collapsed": false
   },
   "outputs": [
    {
     "name": "stdout",
     "output_type": "stream",
     "text": [
      "[0 1 2 3 4 5 6 7 8 9]\n",
      "[9 8 7 6 5 4 3 2 1 0]\n"
     ]
    }
   ],
   "source": [
    "def reverse(vector):\n",
    "    \"\"\"return a 1D vector with the elements reversed\n",
    "\n",
    "Input\n",
    "-----\n",
    "    x: 1D array\n",
    "\n",
    "Output\n",
    "------\n",
    "    res: 1D array, with the elements of `x` reversed\"\"\"\n",
    "    return vector[::-1]\n",
    "\n",
    "a = np.arange(10)\n",
    "print(a)\n",
    "b = reverse(a)\n",
    "print(b)"
   ]
  },
  {
   "cell_type": "markdown",
   "metadata": {},
   "source": [
    "## 4."
   ]
  },
  {
   "cell_type": "code",
   "execution_count": 35,
   "metadata": {
    "collapsed": false
   },
   "outputs": [],
   "source": [
    "d = [1,2,0,0,4,0]\n",
    "e = np.array(d)"
   ]
  },
  {
   "cell_type": "code",
   "execution_count": 40,
   "metadata": {
    "collapsed": false
   },
   "outputs": [
    {
     "name": "stdout",
     "output_type": "stream",
     "text": [
      "(array([0, 1, 4]),)\n",
      "[0 0 0]\n"
     ]
    }
   ],
   "source": [
    "def find_nonzero(array):\n",
    "    \"\"\"Print a list of nonzero elements in an array and print array with nonzero elements removed\"\"\"\n",
    "    indices = np.where(e!=0)\n",
    "    print(indices)\n",
    "    removed = np.delete(array,indices)\n",
    "    print(removed)\n",
    "\n",
    "find_nonzero(e)"
   ]
  },
  {
   "cell_type": "code",
   "execution_count": 24,
   "metadata": {
    "collapsed": false
   },
   "outputs": [
    {
     "data": {
      "text/plain": [
       "[0, 1, 4]"
      ]
     },
     "execution_count": 24,
     "metadata": {},
     "output_type": "execute_result"
    }
   ],
   "source": [
    "[i for i, k in enumerate(d) if k != 0]"
   ]
  },
  {
   "cell_type": "markdown",
   "metadata": {},
   "source": [
    "## 5."
   ]
  },
  {
   "cell_type": "code",
   "execution_count": 32,
   "metadata": {
    "collapsed": false
   },
   "outputs": [
    {
     "data": {
      "text/plain": [
       "array([[[ 0.45854994,  0.34607814,  0.43551883],\n",
       "        [ 0.46736039,  0.62395194,  0.50639255],\n",
       "        [ 0.58046183,  0.5256454 ,  0.59347173]],\n",
       "\n",
       "       [[ 0.48739813,  0.70202256,  0.37563065],\n",
       "        [ 0.4596888 ,  0.55167787,  0.54224351],\n",
       "        [ 0.50681852,  0.54601109,  0.43695048]],\n",
       "\n",
       "       [[ 0.33780622,  0.45925828,  0.36133905],\n",
       "        [ 0.44357471,  0.5701879 ,  0.49316206],\n",
       "        [ 0.53148336,  0.60033202,  0.44088636]]])"
      ]
     },
     "execution_count": 32,
     "metadata": {},
     "output_type": "execute_result"
    }
   ],
   "source": [
    "x = np.random.normal(0.5,0.1,(3,3,3)) # normally distributed; mean = 0.5, standard deviation = 0.1\n",
    "# array shape is (3,3,3)\n",
    "# too high of a standard deviation (e.g., std = 1) would make some values negative\n",
    "# this is because we are NOT specifying that it has to be between 0 and 1, just tweaking it so that is the result\n",
    "x"
   ]
  },
  {
   "cell_type": "markdown",
   "metadata": {},
   "source": [
    "## 6."
   ]
  },
  {
   "cell_type": "code",
   "execution_count": 37,
   "metadata": {
    "collapsed": false
   },
   "outputs": [
    {
     "name": "stdout",
     "output_type": "stream",
     "text": [
      "[[ 0.71317991  0.52085095  0.56317346  0.32308414  0.16410426  0.48535508\n",
      "   0.08777766  0.10705626  0.17243968  0.15797685]\n",
      " [ 0.43800711  0.86748068  0.09647915  0.15125605  0.40293203  0.27503821\n",
      "   0.98377313  0.94879504  0.75455983  0.40240164]\n",
      " [ 0.0945123   0.25008676  0.1992181   0.49923155  0.08552212  0.80697346\n",
      "   0.95880758  0.00697489  0.61246326  0.88838025]\n",
      " [ 0.8577425   0.73993479  0.88879958  0.85055425  0.27772536  0.22218489\n",
      "   0.55480107  0.10642382  0.95930926  0.28849862]\n",
      " [ 0.12718382  0.59293999  0.84357934  0.45345802  0.33680423  0.01473821\n",
      "   0.09455254  0.41531244  0.1787214   0.79112556]\n",
      " [ 0.23131075  0.34198691  0.60886769  0.32480281  0.8478939   0.76980933\n",
      "   0.95891578  0.76216022  0.44174143  0.24424009]\n",
      " [ 0.41801063  0.71792353  0.21464475  0.7131966   0.49574283  0.74462168\n",
      "   0.60394056  0.02530471  0.44414624  0.71721391]\n",
      " [ 0.80730617  0.49009671  0.12222381  0.44440563  0.45464469  0.91343714\n",
      "   0.14058925  0.98280066  0.74515263  0.57083801]\n",
      " [ 0.69293773  0.81572376  0.55818558  0.10085398  0.05291517  0.1041753\n",
      "   0.2536836   0.05902617  0.22666405  0.04558232]\n",
      " [ 0.90546101  0.32175517  0.2309215   0.14918957  0.27488014  0.3839123\n",
      "   0.7314159   0.57587251  0.94862256  0.72277582]]\n",
      "0.09647914663\n",
      "0.843579335727\n"
     ]
    }
   ],
   "source": [
    "random_array = np.random.rand(10,10)\n",
    "print(random_array)\n",
    "print(random_array.min(axis=0)[2])\n",
    "print(random_array.max(axis=1)[4])"
   ]
  },
  {
   "cell_type": "markdown",
   "metadata": {},
   "source": [
    "## 7."
   ]
  },
  {
   "cell_type": "code",
   "execution_count": 50,
   "metadata": {
    "collapsed": false
   },
   "outputs": [
    {
     "data": {
      "text/plain": [
       "array([ 0.05 ,  0.145,  0.24 ,  0.335,  0.43 ,  0.525,  0.62 ,  0.715,\n",
       "        0.81 ,  0.905])"
      ]
     },
     "execution_count": 50,
     "metadata": {},
     "output_type": "execute_result"
    }
   ],
   "source": [
    "np.linspace(0.05,1,10,False)"
   ]
  },
  {
   "cell_type": "markdown",
   "metadata": {},
   "source": [
    "## 8."
   ]
  },
  {
   "cell_type": "code",
   "execution_count": 53,
   "metadata": {
    "collapsed": false
   },
   "outputs": [
    {
     "name": "stdout",
     "output_type": "stream",
     "text": [
      "[ 0.15443722  0.85711933  0.35336949  0.8849256   0.15435979  0.51889542\n",
      "  0.92614858  0.26657783  0.29335747  0.73358143]\n"
     ]
    },
    {
     "data": {
      "text/plain": [
       "array([ 0.15435979,  0.15443722,  0.26657783,  0.29335747,  0.35336949,\n",
       "        0.51889542,  0.73358143,  0.85711933,  0.8849256 ,  0.92614858])"
      ]
     },
     "execution_count": 53,
     "metadata": {},
     "output_type": "execute_result"
    }
   ],
   "source": [
    "random_vec = np.random.rand(10)\n",
    "print(random_vec)\n",
    "np.sort(random_vec)"
   ]
  },
  {
   "cell_type": "markdown",
   "metadata": {},
   "source": [
    "## 9."
   ]
  },
  {
   "cell_type": "code",
   "execution_count": 55,
   "metadata": {
    "collapsed": false
   },
   "outputs": [],
   "source": [
    "def is_equal(a1,a2):\n",
    "    \"\"\"return True if two arrays are the same shape and all the elements are equal.\n",
    "\n",
    "Inputs:\n",
    "    A, B:  array\n",
    "Output:\n",
    "    Bool:  True if A and B have the same shape and identical elements.\"\"\"\n",
    "    while a1.shape == a2.shape: # Check if shapes are the same\n",
    "        if a1.sum() == a2.sum(): # Check if elements are the same by comparing sums of the elements\n",
    "            return(True)\n",
    "        else:\n",
    "            return(False)\n",
    "    else:\n",
    "        return(False)\n",
    "# The tricky part here was how to determine if elements are equal without using another function (I found multiple)"
   ]
  },
  {
   "cell_type": "markdown",
   "metadata": {},
   "source": [
    "## 10."
   ]
  },
  {
   "cell_type": "code",
   "execution_count": 10,
   "metadata": {
    "collapsed": false
   },
   "outputs": [
    {
     "name": "stdout",
     "output_type": "stream",
     "text": [
      "[[-0.5  0.5]\n",
      " [-0.5  0.5]\n",
      " [-0.5  0.5]]\n"
     ]
    }
   ],
   "source": [
    "\"\"\"Calculate mean for each row in a matrix, and then subtract that mean\n",
    "from the respective rows\"\"\"\n",
    "\n",
    "x = np.arange(6).reshape(3,2) # Shape is (3,2)\n",
    "mean1 = x.mean(axis=1) # Shape is (3,); cannot broadcast with this\n",
    "y = x.T # Transpose x, now (2,3)\n",
    "z = np.subtract(y,mean1) # Subtract mean (3,) from y (2,3)\n",
    "# Following broadcasting rules,can now to do above subtraction\n",
    "print(z.T) # Transpose the result\n",
    "# Final product is now element in each row minus the mean of that row"
   ]
  },
  {
   "cell_type": "code",
   "execution_count": 32,
   "metadata": {
    "collapsed": false
   },
   "outputs": [
    {
     "name": "stdout",
     "output_type": "stream",
     "text": [
      "[[-0.5  0.5]\n",
      " [-0.5  0.5]\n",
      " [-0.5  0.5]]\n"
     ]
    }
   ],
   "source": [
    "oneline = (np.subtract((x.T),(x.mean(axis=1)))).T\n",
    "print(oneline)"
   ]
  },
  {
   "cell_type": "code",
   "execution_count": 11,
   "metadata": {
    "collapsed": false
   },
   "outputs": [
    {
     "name": "stdout",
     "output_type": "stream",
     "text": [
      "[[-0.08981791  0.24504159 -0.19853852  0.47585415 -0.43253931]\n",
      " [-0.31627669  0.27715611  0.25035712 -0.31433978  0.10310324]\n",
      " [-0.08702011  0.13143522 -0.30637055  0.24501988  0.01693556]\n",
      " [-0.12729547  0.27937644  0.33542958  0.08908683 -0.57659738]\n",
      " [ 0.33427487 -0.23621612 -0.1968637  -0.02934013  0.12814508]\n",
      " [ 0.16942332  0.13884581  0.05001376 -0.00876327 -0.34951962]\n",
      " [-0.01500304  0.07162031  0.02338223 -0.04669263 -0.03330687]\n",
      " [ 0.21644482 -0.47150398  0.2291219   0.42748658 -0.40154932]\n",
      " [ 0.34658821  0.34873735 -0.2983089  -0.42042991  0.02341325]\n",
      " [ 0.22608014  0.07312875  0.25862717 -0.59161206  0.033776  ]\n",
      " [-0.03289809 -0.22194435 -0.03217873  0.25176042  0.03526075]\n",
      " [-0.16838244 -0.14317916 -0.04060527  0.58583057 -0.2336637 ]]\n"
     ]
    }
   ],
   "source": [
    "w = np.random.rand(12,5)\n",
    "oneline1 = (np.subtract((w.T),(w.mean(axis=1)))).T\n",
    "print(oneline1)"
   ]
  },
  {
   "cell_type": "markdown",
   "metadata": {},
   "source": [
    "## 11."
   ]
  },
  {
   "cell_type": "code",
   "execution_count": 4,
   "metadata": {
    "collapsed": false
   },
   "outputs": [
    {
     "name": "stdout",
     "output_type": "stream",
     "text": [
      "(5, 5, 1)\n",
      "(5, 5, 3)\n",
      "(3, 5, 5)\n"
     ]
    }
   ],
   "source": [
    "a = np.random.rand(5,5,3)\n",
    "b = np.random.rand(5,5)\n",
    "c = np.random.rand(3,5,5)\n",
    "b2 = b[:,:,np.newaxis] # Create a singleton axis, otherwise a and b cannot be multiplied by eachother\n",
    "print(b2.shape) # Shape of array is now (5,5,1)\n",
    "sol1 = a*b2 # (5,5,3)*(5,5,1)\n",
    "sol2 = b*c # (5,5)*(3,5,5)\n",
    "print(sol1.shape)\n",
    "print(sol2.shape)"
   ]
  },
  {
   "cell_type": "markdown",
   "metadata": {},
   "source": [
    "## 12."
   ]
  },
  {
   "cell_type": "code",
   "execution_count": 16,
   "metadata": {
    "collapsed": false
   },
   "outputs": [
    {
     "name": "stdout",
     "output_type": "stream",
     "text": [
      "[[ 1  2  3  4]\n",
      " [ 2  3  4  5]\n",
      " [ 3  4  5  6]\n",
      " [ 4  5  6  7]\n",
      " [ 5  6  7  8]\n",
      " [ 6  7  8  9]\n",
      " [ 7  8  9 10]\n",
      " [ 8  9 10 11]\n",
      " [ 9 10 11 12]\n",
      " [10 11 12 13]\n",
      " [11 12 13 14]]\n"
     ]
    }
   ],
   "source": [
    "z = np.arange(1,15,1)\n",
    "z1 = z[:11, np.newaxis]\n",
    "z2 = np.abs(z1+[0,1,2,3]) # np.abs probably not strictly necessary for this\n",
    "print(z2)\n",
    "# This solution is different from some of my classmates that used a for loop instead; I went with array operations\n",
    "# There is also a numpy function stride that does this"
   ]
  },
  {
   "cell_type": "code",
   "execution_count": 14,
   "metadata": {
    "collapsed": false
   },
   "outputs": [
    {
     "name": "stdout",
     "output_type": "stream",
     "text": [
      "[[ 1  2  3  4]\n",
      " [ 2  3  4  5]\n",
      " [ 3  4  5  6]\n",
      " [ 4  5  6  7]\n",
      " [ 5  6  7  8]\n",
      " [ 6  7  8  9]\n",
      " [ 7  8  9 10]\n",
      " [ 8  9 10 11]\n",
      " [ 9 10 11 12]\n",
      " [10 11 12 13]\n",
      " [11 12 13 14]]\n"
     ]
    }
   ],
   "source": [
    "z2 = np.abs(((np.arange(1,15,1))[:11, np.newaxis])+[0,1,2,3]) # one line\n",
    "print(z2)"
   ]
  },
  {
   "cell_type": "markdown",
   "metadata": {},
   "source": [
    "## 13."
   ]
  },
  {
   "cell_type": "code",
   "execution_count": 13,
   "metadata": {
    "collapsed": false
   },
   "outputs": [
    {
     "data": {
      "text/plain": [
       "(array([ 0.44996557,  0.99927538,  0.39127645]),\n",
       " array([ 0.29395913,  1.32232911,  0.52367629]))"
      ]
     },
     "execution_count": 13,
     "metadata": {},
     "output_type": "execute_result"
    }
   ],
   "source": [
    "t = np.random.rand(3,2)\n",
    "def cart2polar(array):\n",
    "    \"\"\"Convert Cartesian coordinates (N,2) to polar coordintes (r,theta)\"\"\"\n",
    "    x = array[:,0] # Specify that this is an array and that we want the 0 axis\n",
    "    y = array[:,1] # axis = 1\n",
    "    r = np.sqrt(x**2 + y**2)\n",
    "    theta = np.arctan2(y,x)\n",
    "    return(r,theta)\n",
    "\n",
    "cart2polar(t)"
   ]
  },
  {
   "cell_type": "markdown",
   "metadata": {},
   "source": [
    "## 14."
   ]
  },
  {
   "cell_type": "code",
   "execution_count": null,
   "metadata": {
    "collapsed": true
   },
   "outputs": [],
   "source": []
  },
  {
   "cell_type": "markdown",
   "metadata": {},
   "source": [
    "## 15."
   ]
  },
  {
   "cell_type": "code",
   "execution_count": 18,
   "metadata": {
    "collapsed": false
   },
   "outputs": [],
   "source": [
    "def calculate(a, b):\n",
    "    \"\"\"Do some calculations\n",
    "    \n",
    "    Take in two arrays, subtract 1/4 of the [:2,:] elements from the elements themselves.\n",
    "    Then multiply with array b and return the result.\n",
    "    \n",
    "    Inputs:\n",
    "        a: input array, shape [MxN]\n",
    "        b: input array, shape [M]\n",
    "    \n",
    "    Returns:\n",
    "        resultant array\n",
    "    \"\"\"\n",
    "# a[:2,:] --> [row,column] therefore, == first two rows\n",
    "# aa =/4 Results in 1/4, so 0.25, which is THEN subtracted from itself\n",
    "    # Therefore, we get [0,0][0,0][3,3]\n",
    "# Array b is not altered during this calculation\n",
    "# we want [2.25,2.25][2.25,2.25][3,3] so... \n",
    "\n",
    "    aa = a[:2,:]\n",
    "    aa -= (aa/4) # Equivalent to aa = aa - (aa/4); now we only subtract 0.25 to get 0.75 in the first two rows\n",
    "    g = a.T # b.shape is (3,); a.shape is (3,2) so we transpose and g.shape is (2,3) \n",
    "\n",
    "\n",
    "    return (g*b).T # (g*b).shape would be (2,3), so we ensure result is transposed\n",
    "    \n",
    "a = np.ones((3, 2))\n",
    "b = np.ones(3)*3\n",
    "res = calculate(a, b)\n",
    "\n",
    "assert (res == np.array([[ 2.25,  2.25],[ 2.25,  2.25],[ 3., 3.]])).all()"
   ]
  },
  {
   "cell_type": "code",
   "execution_count": 33,
   "metadata": {
    "collapsed": false
   },
   "outputs": [],
   "source": [
    "def calculate(a, b):\n",
    "    \"\"\"Do some calculations\n",
    "    \n",
    "    Take in two arrays, subtract 1/4 of the [:2,:] elements from the elements themselves.\n",
    "    Then multiply with array b and return the result.\n",
    "    \n",
    "    Inputs:\n",
    "        a: input array, shape [MxN]\n",
    "        b: input array, shape [M]\n",
    "    \n",
    "    Returns:\n",
    "        resultant array\n",
    "    \"\"\"\n",
    "# a[:2,:] --> [row,column] therefore, == first two rows\n",
    "# aa =/4 Results in 1/4, so 0.25, which is THEN subtracted from itself\n",
    "    # Therefore, we get [0,0][0,0][3,3]\n",
    "# Array b is not altered during this calculation\n",
    "# we want [2.25,2.25][2.25,2.25][3,3] so... \n",
    "\n",
    "    aa = a[:2,:]\n",
    "    aa -= (aa/4) # Equivalent to aa = aa - (aa/4); now we only subtract 0.25 to get 0.75 in the first two rows\n",
    "    f = a.T # b.shape is (3,); a.shape is (3,2) so we transpose and g.shape is (2,3) \n",
    "\n",
    "\n",
    "    return (f*b).T # (f*b).shape would be (2,3), so we ensure result is transposed\n",
    "    \n",
    "a = np.ones((3, 2))\n",
    "b = np.ones(3)*3\n",
    "res = calculate(a, b)\n",
    "\n",
    "assert (res == np.array([[ 2.25,  2.25],[ 2.25,  2.25],[ 3., 3.]])).all()"
   ]
  },
  {
   "cell_type": "code",
   "execution_count": 32,
   "metadata": {
    "collapsed": false
   },
   "outputs": [
    {
     "data": {
      "text/plain": [
       "array([[ 2.25,  2.25],\n",
       "       [ 2.25,  2.25],\n",
       "       [ 3.  ,  3.  ]])"
      ]
     },
     "execution_count": 32,
     "metadata": {},
     "output_type": "execute_result"
    }
   ],
   "source": [
    "res"
   ]
  },
  {
   "cell_type": "markdown",
   "metadata": {},
   "source": [
    "## 16."
   ]
  },
  {
   "cell_type": "code",
   "execution_count": 22,
   "metadata": {
    "collapsed": false
   },
   "outputs": [
    {
     "name": "stdout",
     "output_type": "stream",
     "text": [
      "[ 134.  123.  130. ...,  147.  152.  150.]\n",
      "[  3.    3.6   3.3 ...,  11.4  11.9  10.2]\n"
     ]
    }
   ],
   "source": [
    "burl = np.loadtxt('burl1h2010.txt', comments='#')\n",
    "wind_dir = burl[:,5] #1D array for wind direction\n",
    "wind_spd = burl[:,6] #1D array for wind speed\n",
    "print(wind_dir) # degT\n",
    "print(wind_spd) # m/s\n",
    "# u = (wind_spd)*(cos(deg)) where deg is wind_dir\n",
    "# v = (wind_spd)*(sin(deg)) where deg is wind_dir"
   ]
  },
  {
   "cell_type": "code",
   "execution_count": 23,
   "metadata": {
    "collapsed": false
   },
   "outputs": [
    {
     "data": {
      "text/plain": [
       "(array([-1.39148661, -3.19668806, -1.21206139, ..., -9.04175518,\n",
       "         4.27262701,  7.13235823]),\n",
       " array([  2.65777445,  -1.65565257,  -3.06934964, ...,   6.94310185,\n",
       "         11.10651423,  -7.29173958]))"
      ]
     },
     "execution_count": 23,
     "metadata": {},
     "output_type": "execute_result"
    }
   ],
   "source": [
    "def w_vector(vdir,vspd):\n",
    "    \"\"\"Take in vector and return components.\n",
    "\n",
    "Inputs:\n",
    "    vdir: vector direction in degrees\n",
    "    vspd: vector magnitude\n",
    "\n",
    "Returns:\n",
    "    u: x component of vector\n",
    "    v: y component of vector\"\"\"\n",
    "# Have vdir and vspd been set yet as arrays?\n",
    "    \n",
    "    u = vspd*(np.cos(vdir))\n",
    "    v = vspd*(np.sin(vdir))\n",
    "    return u,v\n",
    "\n",
    "w_vector(wind_dir,wind_spd)"
   ]
  },
  {
   "cell_type": "markdown",
   "metadata": {},
   "source": [
    "## 17."
   ]
  },
  {
   "cell_type": "code",
   "execution_count": 44,
   "metadata": {
    "collapsed": false
   },
   "outputs": [
    {
     "ename": "AttributeError",
     "evalue": "'str' object has no attribute 'mean'",
     "output_type": "error",
     "traceback": [
      "\u001b[0;31m---------------------------------------------------------------------------\u001b[0m",
      "\u001b[0;31mAttributeError\u001b[0m                            Traceback (most recent call last)",
      "\u001b[0;32m<ipython-input-44-888d4513eaa9>\u001b[0m in \u001b[0;36m<module>\u001b[0;34m()\u001b[0m\n\u001b[1;32m     18\u001b[0m         \u001b[0;32mreturn\u001b[0m \u001b[0mself\u001b[0m\u001b[0;34m.\u001b[0m\u001b[0mmax\u001b[0m \u001b[0;31m# Mean of the 3rd column, temperature (deg C)\u001b[0m\u001b[0;34m\u001b[0m\u001b[0m\n\u001b[1;32m     19\u001b[0m \u001b[0;34m\u001b[0m\u001b[0m\n\u001b[0;32m---> 20\u001b[0;31m \u001b[0msalt_mean\u001b[0m \u001b[0;34m=\u001b[0m \u001b[0mself\u001b[0m\u001b[0;34m.\u001b[0m\u001b[0mmean\u001b[0m\u001b[0;34m(\u001b[0m\u001b[0maxis\u001b[0m\u001b[0;34m=\u001b[0m\u001b[0;36m0\u001b[0m\u001b[0;34m)\u001b[0m\u001b[0;34m[\u001b[0m\u001b[0;36m5\u001b[0m\u001b[0;34m]\u001b[0m\u001b[0;34m\u001b[0m\u001b[0m\n\u001b[0m\u001b[1;32m     21\u001b[0m \u001b[0mtemp_max\u001b[0m \u001b[0;34m=\u001b[0m \u001b[0mself\u001b[0m\u001b[0;34m.\u001b[0m\u001b[0mmax\u001b[0m\u001b[0;34m(\u001b[0m\u001b[0maxis\u001b[0m\u001b[0;34m=\u001b[0m\u001b[0;36m0\u001b[0m\u001b[0;34m)\u001b[0m\u001b[0;34m\u001b[0m\u001b[0m\n",
      "\u001b[0;31mAttributeError\u001b[0m: 'str' object has no attribute 'mean'"
     ]
    }
   ],
   "source": [
    "for filename in glob.glob('MCH/*.cnv2'):\n",
    "    self = filename\n",
    "class dataClass(object):\n",
    "    \"\"\"A class to store information from a series of CTD data files in the\n",
    "    folder /MCH\"\"\"\n",
    "    def __init__(self, temp, salinity):\n",
    "        self.salinity = salinity # salinity values with depth\n",
    "        self.temp = temperature # temperature with depth\n",
    "    #def salinity(self):\n",
    "        #return self[:,5]\n",
    "    #def temp(self):\n",
    "        #return self[:,2]\n",
    "    def mean(self):\n",
    "        'return the mean of the salinity'\n",
    "        return self.mean # Mean of the 6th column, salinity\n",
    "    def max(self):\n",
    "        'return the max of the temperature'\n",
    "        return self.max # Mean of the 3rd column, temperature (deg C)\n",
    "    \n",
    "salt_mean = self.mean(axis=0)[5]\n",
    "temp_max = self.max(axis=0)"
   ]
  },
  {
   "cell_type": "code",
   "execution_count": 41,
   "metadata": {
    "collapsed": false
   },
   "outputs": [
    {
     "data": {
      "text/plain": [
       "['MCH/m1001a.cnv2',\n",
       " 'MCH/m1001c.cnv2',\n",
       " 'MCH/m1002a.cnv2',\n",
       " 'MCH/m1002c.cnv2',\n",
       " 'MCH/m1003a.cnv2',\n",
       " 'MCH/m1003c.cnv2',\n",
       " 'MCH/m1004a.cnv2',\n",
       " 'MCH/m1004aa.cnv2',\n",
       " 'MCH/m1004b.cnv2',\n",
       " 'MCH/m1004c.cnv2',\n",
       " 'MCH/m1005a.cnv2',\n",
       " 'MCH/m1005c.cnv2',\n",
       " 'MCH/m1006a.cnv2',\n",
       " 'MCH/m1006c.cnv2',\n",
       " 'MCH/m1007a.cnv2',\n",
       " 'MCH/m1007b.cnv2',\n",
       " 'MCH/m1007c.cnv2',\n",
       " 'MCH/m1008a.cnv2',\n",
       " 'MCH/m1008b.cnv2',\n",
       " 'MCH/m1008c.cnv2',\n",
       " 'MCH/m1009a.cnv2',\n",
       " 'MCH/m1009b.cnv2',\n",
       " 'MCH/m1009c.cnv2',\n",
       " 'MCH/m1010a.cnv2',\n",
       " 'MCH/m1010b.cnv2',\n",
       " 'MCH/m1010c.cnv2',\n",
       " 'MCH/m1011a.cnv2',\n",
       " 'MCH/m1011b.cnv2',\n",
       " 'MCH/m1011c.cnv2',\n",
       " 'MCH/m1012a.cnv2',\n",
       " 'MCH/m1012b.cnv2',\n",
       " 'MCH/m1012c.cnv2',\n",
       " 'MCH/m1013a.cnv2',\n",
       " 'MCH/m1013c.cnv2',\n",
       " 'MCH/m1014a.cnv2',\n",
       " 'MCH/m1014b.cnv2',\n",
       " 'MCH/m1014c.cnv2',\n",
       " 'MCH/m1015a.cnv2',\n",
       " 'MCH/m1015b.cnv2',\n",
       " 'MCH/m1015c.cnv2',\n",
       " 'MCH/m1016a.cnv2',\n",
       " 'MCH/m1016b.cnv2',\n",
       " 'MCH/m1016c.cnv2',\n",
       " 'MCH/m1017a.cnv2',\n",
       " 'MCH/m1017b.cnv2',\n",
       " 'MCH/m1017c.cnv2',\n",
       " 'MCH/m1018b.cnv2']"
      ]
     },
     "execution_count": 41,
     "metadata": {},
     "output_type": "execute_result"
    }
   ],
   "source": [
    "glob.glob('MCH/*.cnv2')"
   ]
  },
  {
   "cell_type": "markdown",
   "metadata": {},
   "source": [
    "## 18."
   ]
  },
  {
   "cell_type": "code",
   "execution_count": 42,
   "metadata": {
    "collapsed": false
   },
   "outputs": [
    {
     "name": "stdout",
     "output_type": "stream",
     "text": [
      "[  0.5   1.5   2.5   3.5   4.5   5.5   6.5   7.5   8.5   9.5  10.5  11.5\n",
      "  12.5  13.5  14.5  15.5  16.5  17.5  18.5  19.5  20.5  21.5  22.5  23.5\n",
      "  24.5  25.5  26.5  27.5  28.5  29.5  30.5  31.5  32.5  33.5  34.5  35.5\n",
      "  36.5  37.5  38.5  39.5  40.5  41.5  42.5  43.5  44.5  45.5  46.5  47.5\n",
      "  48.5  49.5  50.5  51.5  52.5  53.5  54.5  55.5  56.5  57.5  58.5  59.5\n",
      "  60.5  61.5  62.5  63.5  64.5  65.5  66.5  67.5  68.5  69.5  70.5  71.5\n",
      "  72.5  73.5  74.5  75.5  76.5  77.5  78.5  79.5  80.5  81.5  82.5  83.5\n",
      "  84.5  85.5  86.5  87.5  88.5  89.5  90.5  91.5  92.5  93.5  94.5  95.5\n",
      "  96.5  97.5  98.5  99.5  50. ]\n",
      "[  0   1   2   3   4   5   6   7   8   9  10  11  12  13  14  15  16  17\n",
      "  18  19  20  21  22  23  24  25  26  27  28  29  30  31  32  33  34  35\n",
      "  36  37  38  39  40  41  42  43  44  45  46  47  48  49  50  51  52  53\n",
      "  54  55  56  57  58  59  60  61  62  63  64  65  66  67  68  69  70  71\n",
      "  72  73  74  75  76  77  78  79  80  81  82  83  84  85  86  87  88  89\n",
      "  90  91  92  93  94  95  96  97  98  99 100]\n"
     ]
    }
   ],
   "source": [
    "x = np.arange(101) # Create a vector to test the function.\n",
    "\n",
    "def runningMean(x, N): # Function to calcualte running mean, with x as the vector and N as the window size.\n",
    "    if N == 0: # Condition to return original vector if window size is 0.\n",
    "        return x\n",
    "    else:\n",
    "        y = np.zeros((len(x),))\n",
    "        for ctr in range(len(x)):\n",
    "            y[ctr] = np.sum(x[ctr:(ctr+N)])\n",
    "        means = y/N\n",
    "        return means\n",
    "    \n",
    "#assert runningMean(x,5)\n",
    "\n",
    "print (runningMean(x,2)) # Test the function using the random vector x with a window size of 2.\n",
    "print (runningMean(x,0)) # Test the function using the random vector x with a window size 0 of (returns orignal vector).\n"
   ]
  },
  {
   "cell_type": "code",
   "execution_count": null,
   "metadata": {
    "collapsed": true
   },
   "outputs": [],
   "source": []
  }
 ],
 "metadata": {
  "kernelspec": {
   "display_name": "Python 3",
   "language": "python",
   "name": "python3"
  },
  "language_info": {
   "codemirror_mode": {
    "name": "ipython",
    "version": 3
   },
   "file_extension": ".py",
   "mimetype": "text/x-python",
   "name": "python",
   "nbconvert_exporter": "python",
   "pygments_lexer": "ipython3",
   "version": "3.5.1"
  }
 },
 "nbformat": 4,
 "nbformat_minor": 0
}
