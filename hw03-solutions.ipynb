{
 "cells": [
  {
   "cell_type": "code",
   "execution_count": 1,
   "metadata": {
    "collapsed": true
   },
   "outputs": [],
   "source": [
    "import numpy as np"
   ]
  },
  {
   "cell_type": "code",
   "execution_count": null,
   "metadata": {
    "collapsed": true
   },
   "outputs": [],
   "source": [
    "import glob"
   ]
  },
  {
   "cell_type": "code",
   "execution_count": 2,
   "metadata": {
    "collapsed": true
   },
   "outputs": [],
   "source": [
    "import math as m"
   ]
  },
  {
   "cell_type": "code",
   "execution_count": 3,
   "metadata": {
    "collapsed": true
   },
   "outputs": [],
   "source": [
    "import scipy.stats"
   ]
  },
  {
   "cell_type": "markdown",
   "metadata": {},
   "source": [
    "## 1"
   ]
  },
  {
   "cell_type": "code",
   "execution_count": 7,
   "metadata": {
    "collapsed": false
   },
   "outputs": [
    {
     "name": "stdout",
     "output_type": "stream",
     "text": [
      "[ 0.  0.  0.  0.  1.  0.  0.  0.  0.  0.]\n"
     ]
    }
   ],
   "source": [
    "x = np.zeros(10)\n",
    "x[4] = 1\n",
    "print(x)"
   ]
  },
  {
   "cell_type": "markdown",
   "metadata": {},
   "source": [
    "## 2"
   ]
  },
  {
   "cell_type": "code",
   "execution_count": 10,
   "metadata": {
    "collapsed": false
   },
   "outputs": [
    {
     "data": {
      "text/plain": [
       "array([10, 11, 12, 13, 14, 15, 16, 17, 18, 19, 20, 21, 22, 23, 24, 25, 26,\n",
       "       27, 28, 29, 30, 31, 32, 33, 34, 35, 36, 37, 38, 39, 40, 41, 42, 43,\n",
       "       44, 45, 46, 47, 48, 49])"
      ]
     },
     "execution_count": 10,
     "metadata": {},
     "output_type": "execute_result"
    }
   ],
   "source": [
    "v = np.arange(10,50,1)\n",
    "v"
   ]
  },
  {
   "cell_type": "markdown",
   "metadata": {},
   "source": [
    "## 3"
   ]
  },
  {
   "cell_type": "code",
   "execution_count": 11,
   "metadata": {
    "collapsed": false
   },
   "outputs": [
    {
     "name": "stdout",
     "output_type": "stream",
     "text": [
      "[0 1 2 3 4 5 6 7 8 9]\n",
      "[9 8 7 6 5 4 3 2 1 0]\n"
     ]
    }
   ],
   "source": [
    "def reverse(vector):\n",
    "    \"\"\"return a 1D vector with the elements reversed\n",
    "\n",
    "Input\n",
    "-----\n",
    "    x: 1D array\n",
    "\n",
    "Output\n",
    "------\n",
    "    res: 1D array, with the elements of `x` reversed\"\"\"\n",
    "    return vector[::-1]\n",
    "\n",
    "a = np.arange(10)\n",
    "print(a)\n",
    "b = reverse(a)\n",
    "print(b)"
   ]
  },
  {
   "cell_type": "markdown",
   "metadata": {},
   "source": [
    "## 4"
   ]
  },
  {
   "cell_type": "code",
   "execution_count": 19,
   "metadata": {
    "collapsed": true
   },
   "outputs": [],
   "source": [
    "d = [1,2,0,0,4,0]\n",
    "e = np.array(d)"
   ]
  },
  {
   "cell_type": "code",
   "execution_count": 20,
   "metadata": {
    "collapsed": false
   },
   "outputs": [
    {
     "data": {
      "text/plain": [
       "(array([0]),)"
      ]
     },
     "execution_count": 20,
     "metadata": {},
     "output_type": "execute_result"
    }
   ],
   "source": [
    "def find_nonzero(array):\n",
    "    \"\"\"return the indices of non-zero elements of an array.\n",
    "\n",
    "Input:      x:  array\n",
    "Output:     indices: array of integer indices\"\"\"\n",
    "    for element in array:\n",
    "        return(np.where(element!=0))\n",
    "find_nonzero(e)"
   ]
  },
  {
   "cell_type": "markdown",
   "metadata": {},
   "source": [
    "## 5"
   ]
  },
  {
   "cell_type": "code",
   "execution_count": 32,
   "metadata": {
    "collapsed": false
   },
   "outputs": [
    {
     "data": {
      "text/plain": [
       "array([[[ 0.45854994,  0.34607814,  0.43551883],\n",
       "        [ 0.46736039,  0.62395194,  0.50639255],\n",
       "        [ 0.58046183,  0.5256454 ,  0.59347173]],\n",
       "\n",
       "       [[ 0.48739813,  0.70202256,  0.37563065],\n",
       "        [ 0.4596888 ,  0.55167787,  0.54224351],\n",
       "        [ 0.50681852,  0.54601109,  0.43695048]],\n",
       "\n",
       "       [[ 0.33780622,  0.45925828,  0.36133905],\n",
       "        [ 0.44357471,  0.5701879 ,  0.49316206],\n",
       "        [ 0.53148336,  0.60033202,  0.44088636]]])"
      ]
     },
     "execution_count": 32,
     "metadata": {},
     "output_type": "execute_result"
    }
   ],
   "source": [
    "x = np.random.normal(0.5,0.1,(3,3,3))\n",
    "x"
   ]
  },
  {
   "cell_type": "markdown",
   "metadata": {},
   "source": [
    "## 6"
   ]
  },
  {
   "cell_type": "code",
   "execution_count": 37,
   "metadata": {
    "collapsed": false
   },
   "outputs": [
    {
     "name": "stdout",
     "output_type": "stream",
     "text": [
      "[[ 0.71317991  0.52085095  0.56317346  0.32308414  0.16410426  0.48535508\n",
      "   0.08777766  0.10705626  0.17243968  0.15797685]\n",
      " [ 0.43800711  0.86748068  0.09647915  0.15125605  0.40293203  0.27503821\n",
      "   0.98377313  0.94879504  0.75455983  0.40240164]\n",
      " [ 0.0945123   0.25008676  0.1992181   0.49923155  0.08552212  0.80697346\n",
      "   0.95880758  0.00697489  0.61246326  0.88838025]\n",
      " [ 0.8577425   0.73993479  0.88879958  0.85055425  0.27772536  0.22218489\n",
      "   0.55480107  0.10642382  0.95930926  0.28849862]\n",
      " [ 0.12718382  0.59293999  0.84357934  0.45345802  0.33680423  0.01473821\n",
      "   0.09455254  0.41531244  0.1787214   0.79112556]\n",
      " [ 0.23131075  0.34198691  0.60886769  0.32480281  0.8478939   0.76980933\n",
      "   0.95891578  0.76216022  0.44174143  0.24424009]\n",
      " [ 0.41801063  0.71792353  0.21464475  0.7131966   0.49574283  0.74462168\n",
      "   0.60394056  0.02530471  0.44414624  0.71721391]\n",
      " [ 0.80730617  0.49009671  0.12222381  0.44440563  0.45464469  0.91343714\n",
      "   0.14058925  0.98280066  0.74515263  0.57083801]\n",
      " [ 0.69293773  0.81572376  0.55818558  0.10085398  0.05291517  0.1041753\n",
      "   0.2536836   0.05902617  0.22666405  0.04558232]\n",
      " [ 0.90546101  0.32175517  0.2309215   0.14918957  0.27488014  0.3839123\n",
      "   0.7314159   0.57587251  0.94862256  0.72277582]]\n",
      "0.09647914663\n",
      "0.843579335727\n"
     ]
    }
   ],
   "source": [
    "random_array = np.random.rand(10,10)\n",
    "print(random_array)\n",
    "print(random_array.min(axis=0)[2])\n",
    "print(random_array.max(axis=1)[4])"
   ]
  },
  {
   "cell_type": "markdown",
   "metadata": {},
   "source": [
    "## 7"
   ]
  },
  {
   "cell_type": "code",
   "execution_count": 50,
   "metadata": {
    "collapsed": false
   },
   "outputs": [
    {
     "data": {
      "text/plain": [
       "array([ 0.05 ,  0.145,  0.24 ,  0.335,  0.43 ,  0.525,  0.62 ,  0.715,\n",
       "        0.81 ,  0.905])"
      ]
     },
     "execution_count": 50,
     "metadata": {},
     "output_type": "execute_result"
    }
   ],
   "source": [
    "np.linspace(0.05,1,10,False)"
   ]
  },
  {
   "cell_type": "markdown",
   "metadata": {},
   "source": [
    "## 8"
   ]
  },
  {
   "cell_type": "code",
   "execution_count": 53,
   "metadata": {
    "collapsed": false
   },
   "outputs": [
    {
     "name": "stdout",
     "output_type": "stream",
     "text": [
      "[ 0.15443722  0.85711933  0.35336949  0.8849256   0.15435979  0.51889542\n",
      "  0.92614858  0.26657783  0.29335747  0.73358143]\n"
     ]
    },
    {
     "data": {
      "text/plain": [
       "array([ 0.15435979,  0.15443722,  0.26657783,  0.29335747,  0.35336949,\n",
       "        0.51889542,  0.73358143,  0.85711933,  0.8849256 ,  0.92614858])"
      ]
     },
     "execution_count": 53,
     "metadata": {},
     "output_type": "execute_result"
    }
   ],
   "source": [
    "random_vec = np.random.rand(10)\n",
    "print(random_vec)\n",
    "np.sort(random_vec)"
   ]
  },
  {
   "cell_type": "markdown",
   "metadata": {},
   "source": [
    "## 9"
   ]
  },
  {
   "cell_type": "code",
   "execution_count": 55,
   "metadata": {
    "collapsed": false
   },
   "outputs": [],
   "source": [
    "def is_equal(a1,a2):\n",
    "    \"\"\"return True if two arrays are the same shape and all the elements are equal.\n",
    "\n",
    "Inputs:\n",
    "    A, B:  array\n",
    "Output:\n",
    "    Bool:  True if A and B have the same shape and identical elements.\"\"\"\n",
    "    while a1.shape == a2.shape: # Check if shapes are the same\n",
    "        if a1.sum() == a2.sum(): # Check if elements are the same by comparing sums of the elements\n",
    "            return(True)\n",
    "    else:\n",
    "        return(False)\n",
    "# The tricky part here was how to determine if elements are equal without using another function (I found multiple)"
   ]
  },
  {
   "cell_type": "markdown",
   "metadata": {},
   "source": [
    "## 10"
   ]
  },
  {
   "cell_type": "code",
   "execution_count": 13,
   "metadata": {
    "collapsed": false
   },
   "outputs": [
    {
     "name": "stdout",
     "output_type": "stream",
     "text": [
      "[[-0.5  0.5]\n",
      " [-0.5  0.5]\n",
      " [-0.5  0.5]]\n"
     ]
    }
   ],
   "source": [
    "\"\"\"Calculate mean for each row in a matrix, and then subtract that mean\n",
    "from the respective rows\"\"\"\n",
    "\n",
    "x = np.arange(6).reshape(3,2) # Shape is (3,2)\n",
    "mean1 = x.mean(axis=1) # Shape is (3,); cannot broadcast with this\n",
    "y = x.T # Transpose x, now (2,3)\n",
    "z = np.subtract(y,mean1) # Subtract mean (3,) from y (2,3)\n",
    "# Following broadcasting rules,can now to do above subtraction\n",
    "print(z.T) # Transpose the result\n",
    "# Final product is now element in each row minus the mean of that row"
   ]
  },
  {
   "cell_type": "markdown",
   "metadata": {},
   "source": [
    "## 11"
   ]
  },
  {
   "cell_type": "code",
   "execution_count": 4,
   "metadata": {
    "collapsed": false
   },
   "outputs": [
    {
     "name": "stdout",
     "output_type": "stream",
     "text": [
      "(5, 5, 1)\n",
      "(5, 5, 3)\n",
      "(3, 5, 5)\n"
     ]
    }
   ],
   "source": [
    "a = np.random.rand(5,5,3)\n",
    "b = np.random.rand(5,5)\n",
    "c = np.random.rand(3,5,5)\n",
    "b2 = b[:,:,np.newaxis] # Create a singleton axis\n",
    "print(b2.shape) # Shape of array is now (5,5,1)\n",
    "sol1 = a*b2 # (5,5,3)*(5,5,1)\n",
    "sol2 = b*c # (5,5)*(3,5,5)\n",
    "print(sol1.shape)\n",
    "print(sol2.shape)"
   ]
  },
  {
   "cell_type": "markdown",
   "metadata": {},
   "source": [
    "## 12"
   ]
  },
  {
   "cell_type": "code",
   "execution_count": 3,
   "metadata": {
    "collapsed": false
   },
   "outputs": [
    {
     "name": "stdout",
     "output_type": "stream",
     "text": [
      "[[ 1  2  3  4]\n",
      " [ 2  3  4  5]\n",
      " [ 3  4  5  6]\n",
      " [ 4  5  6  7]\n",
      " [ 5  6  7  8]\n",
      " [ 6  7  8  9]\n",
      " [ 7  8  9 10]\n",
      " [ 8  9 10 11]\n",
      " [ 9 10 11 12]\n",
      " [10 11 12 13]\n",
      " [11 12 13 14]]\n"
     ]
    }
   ],
   "source": [
    "z = np.arange(1,15,1)\n",
    "z1 = z[:11, np.newaxis]\n",
    "z2 = np.abs(z1+[0,1,2,3])\n",
    "print(z2)"
   ]
  },
  {
   "cell_type": "code",
   "execution_count": 14,
   "metadata": {
    "collapsed": false
   },
   "outputs": [
    {
     "name": "stdout",
     "output_type": "stream",
     "text": [
      "[[ 1  2  3  4]\n",
      " [ 2  3  4  5]\n",
      " [ 3  4  5  6]\n",
      " [ 4  5  6  7]\n",
      " [ 5  6  7  8]\n",
      " [ 6  7  8  9]\n",
      " [ 7  8  9 10]\n",
      " [ 8  9 10 11]\n",
      " [ 9 10 11 12]\n",
      " [10 11 12 13]\n",
      " [11 12 13 14]]\n"
     ]
    }
   ],
   "source": [
    "z2 = np.abs(((np.arange(1,15,1))[:11, np.newaxis])+[0,1,2,3])\n",
    "print(z2)"
   ]
  },
  {
   "cell_type": "markdown",
   "metadata": {},
   "source": [
    "## 13"
   ]
  },
  {
   "cell_type": "code",
   "execution_count": null,
   "metadata": {
    "collapsed": true
   },
   "outputs": [],
   "source": [
    "def cart2polar(x,y):\n",
    "    \"\"\"Convert Cartesian coordinates (N,2) to polar coordintes (r,theta)\"\"\"\n",
    "    r = np.sqrt(x**2 + y**2)\n",
    "    theta = np.arctan2(y,x)\n",
    "    return(r,theta)"
   ]
  },
  {
   "cell_type": "markdown",
   "metadata": {},
   "source": [
    "## 14"
   ]
  },
  {
   "cell_type": "markdown",
   "metadata": {},
   "source": [
    "## 15"
   ]
  },
  {
   "cell_type": "code",
   "execution_count": 30,
   "metadata": {
    "collapsed": false
   },
   "outputs": [],
   "source": [
    "def calculate(a, b):\n",
    "    \"\"\"Do some calculations\n",
    "    \n",
    "    Take in two arrays, subtract 1/4 of the [:2,:] elements from the elements themselves.\n",
    "    Then multiply with array b and return the result.\n",
    "    \n",
    "    Inputs:\n",
    "        a: input array, shape [MxN]\n",
    "        b: input array, shape [M]\n",
    "    \n",
    "    Returns:\n",
    "        resultant array\n",
    "    \"\"\"\n",
    "# a[:2,:] --> [row,column] therefore, == first two rows\n",
    "# aa =/4 Results in 1/4, so 0.25, which is THEN subtracted from itself\n",
    "    # Therefore, we get [0,0][0,0][3,3]\n",
    "# Array b is not altered during this calculation\n",
    "# we want [2.25,2.25][2.25,2.25][3,3] so... \n",
    "\n",
    "    aa = a[:2,:]\n",
    "    aa -= (aa/4) # Equivalent to aa = aa - (aa/4); now we only subtract 0.25 to get 0.75 in the first two rows\n",
    "    g = a.T # b.shape is (3,); a.shape is (3,2) so we transpose and g.shape is (2,3) \n",
    "\n",
    "\n",
    "    return (g*b).T # (g*b).shape would be (2,3), so we ensure result is transposed\n",
    "    \n",
    "a = np.ones((3, 2))\n",
    "b = np.ones(3)*3\n",
    "res = calculate(a, b)\n",
    "\n",
    "assert (res == np.array([[ 2.25,  2.25],[ 2.25,  2.25],[ 3., 3.]])).all()"
   ]
  },
  {
   "cell_type": "markdown",
   "metadata": {},
   "source": [
    "## 16"
   ]
  },
  {
   "cell_type": "code",
   "execution_count": 7,
   "metadata": {
    "collapsed": false
   },
   "outputs": [
    {
     "name": "stdout",
     "output_type": "stream",
     "text": [
      "[ 134.  123.  130. ...,  147.  152.  150.]\n",
      "[  3.    3.6   3.3 ...,  11.4  11.9  10.2]\n"
     ]
    }
   ],
   "source": [
    "burl = np.loadtxt('burl1h2010.txt', comments='#')\n",
    "wind_dir = burl[:,5] #1D array for wind direction\n",
    "wind_spd = burl[:,6] #1D array for wind speed\n",
    "print(wind_dir) # degT\n",
    "print(wind_spd) # m/s\n",
    "# u = (wind_spd)*(cos(deg)) where deg is wind_dir\n",
    "# v = (wind_spd)*(sin(deg)) where deg is wind_dir"
   ]
  },
  {
   "cell_type": "code",
   "execution_count": 12,
   "metadata": {
    "collapsed": false
   },
   "outputs": [
    {
     "name": "stdout",
     "output_type": "stream",
     "text": [
      "[-1.39148661 -3.19668806 -1.21206139 ..., -9.04175518  4.27262701\n",
      "  7.13235823]\n",
      "[  2.65777445  -1.65565257  -3.06934964 ...,   6.94310185  11.10651423\n",
      "  -7.29173958]\n"
     ]
    }
   ],
   "source": [
    "def w_vector(vdir,vspd):\n",
    "    \"\"\"Take in vector and return components.\n",
    "\n",
    "Inputs:\n",
    "    vdir: vector direction in degrees\n",
    "    vspd: vector magnitude\n",
    "\n",
    "Returns:\n",
    "    u: x component of vector\n",
    "    v: y component of vector\"\"\"\n",
    "# Have vdir and vspd been set yet as arrays?\n",
    "    \n",
    "    u = vspd*(np.cos(vdir))\n",
    "    v = vspd*(np.sin(vdir))\n",
    "    print(u)\n",
    "    print(v)\n",
    "\n",
    "w_vector(wind_dir,wind_spd)"
   ]
  },
  {
   "cell_type": "markdown",
   "metadata": {},
   "source": [
    "## 17"
   ]
  },
  {
   "cell_type": "markdown",
   "metadata": {},
   "source": [
    "## 18"
   ]
  }
 ],
 "metadata": {
  "kernelspec": {
   "display_name": "Python 3",
   "language": "python",
   "name": "python3"
  },
  "language_info": {
   "codemirror_mode": {
    "name": "ipython",
    "version": 3
   },
   "file_extension": ".py",
   "mimetype": "text/x-python",
   "name": "python",
   "nbconvert_exporter": "python",
   "pygments_lexer": "ipython3",
   "version": "3.5.1"
  }
 },
 "nbformat": 4,
 "nbformat_minor": 0
}
